{
 "cells": [
  {
   "cell_type": "markdown",
   "metadata": {},
   "source": [
    "# Adding ideologies of judges"
   ]
  },
  {
   "cell_type": "code",
   "execution_count": 85,
   "metadata": {},
   "outputs": [],
   "source": [
    "import pandas as pd"
   ]
  },
  {
   "cell_type": "code",
   "execution_count": 86,
   "metadata": {},
   "outputs": [],
   "source": [
    "WORKDIR = \"/data/WorkData/ideology_from_audio/RESULTS\""
   ]
  },
  {
   "cell_type": "code",
   "execution_count": 89,
   "metadata": {
    "scrolled": true
   },
   "outputs": [
    {
     "name": "stdout",
     "output_type": "stream",
     "text": [
      "contriblawyers.csv  justices.csv     raw_wave_word.csv\r\n",
      "ideodefined.txt     \u001b[0m\u001b[01;32mlistpeople.txt\u001b[0m*  \u001b[01;34mWordAudio\u001b[0m/\r\n",
      "ideologyfinal.txt   \u001b[01;32mlistwords.txt\u001b[0m*   \u001b[01;32mwordssyllablesformants.txt\u001b[0m*\r\n"
     ]
    }
   ],
   "source": [
    "ls $WORKDIR"
   ]
  },
  {
   "cell_type": "code",
   "execution_count": 90,
   "metadata": {},
   "outputs": [],
   "source": [
    "def strip_beginning_uppercase(string):\n",
    "    i = 0\n",
    "    while(string[i] == str.upper(string[i])):\n",
    "        i += 1\n",
    "    return string[i-1:].lower()"
   ]
  },
  {
   "cell_type": "code",
   "execution_count": 122,
   "metadata": {},
   "outputs": [],
   "source": [
    "# Load justice dataset and normalize posterior mean Quinn-Martin score\n",
    "justices = pd.read_csv(WORKDIR + \"/justices.csv\")\n",
    "justices = justices.drop(['justice','post_sd', 'post_med', 'post_025', 'post_975'], axis = 1)\n",
    "justices.post_mn = (justices.post_mn - (-8) )/ 16\n",
    "# Keep only relevant years\n",
    "justices = justices[justices.term >= 1998]\n",
    "justices = justices[justices.term <= 2013].reset_index().drop('index', axis = 1)\n",
    "\n",
    "# Keep only last uppercase letter\n",
    "justices.justiceName = justices.justiceName.apply(strip_beginning_uppercase)\n",
    "justices.loc[justices['justiceName'] == 'connor', 'justiceName'] = 'oconnor'"
   ]
  },
  {
   "cell_type": "code",
   "execution_count": 126,
   "metadata": {},
   "outputs": [
    {
     "data": {
      "text/html": [
       "<div>\n",
       "<style scoped>\n",
       "    .dataframe tbody tr th:only-of-type {\n",
       "        vertical-align: middle;\n",
       "    }\n",
       "\n",
       "    .dataframe tbody tr th {\n",
       "        vertical-align: top;\n",
       "    }\n",
       "\n",
       "    .dataframe thead th {\n",
       "        text-align: right;\n",
       "    }\n",
       "</style>\n",
       "<table border=\"1\" class=\"dataframe\">\n",
       "  <thead>\n",
       "    <tr style=\"text-align: right;\">\n",
       "      <th></th>\n",
       "      <th>post_mn</th>\n",
       "    </tr>\n",
       "    <tr>\n",
       "      <th>justiceName</th>\n",
       "      <th></th>\n",
       "    </tr>\n",
       "  </thead>\n",
       "  <tbody>\n",
       "    <tr>\n",
       "      <th>alito</th>\n",
       "      <td>0.608639</td>\n",
       "    </tr>\n",
       "    <tr>\n",
       "      <th>breyer</th>\n",
       "      <td>0.423145</td>\n",
       "    </tr>\n",
       "    <tr>\n",
       "      <th>ginsburg</th>\n",
       "      <td>0.389719</td>\n",
       "    </tr>\n",
       "    <tr>\n",
       "      <th>kagan</th>\n",
       "      <td>0.406078</td>\n",
       "    </tr>\n",
       "    <tr>\n",
       "      <th>kennedy</th>\n",
       "      <td>0.537977</td>\n",
       "    </tr>\n",
       "    <tr>\n",
       "      <th>oconnor</th>\n",
       "      <td>0.526586</td>\n",
       "    </tr>\n",
       "    <tr>\n",
       "      <th>rehnquist</th>\n",
       "      <td>0.595339</td>\n",
       "    </tr>\n",
       "    <tr>\n",
       "      <th>roberts</th>\n",
       "      <td>0.579931</td>\n",
       "    </tr>\n",
       "    <tr>\n",
       "      <th>scalia</th>\n",
       "      <td>0.662453</td>\n",
       "    </tr>\n",
       "    <tr>\n",
       "      <th>sotomayor</th>\n",
       "      <td>0.382212</td>\n",
       "    </tr>\n",
       "    <tr>\n",
       "      <th>souter</th>\n",
       "      <td>0.413920</td>\n",
       "    </tr>\n",
       "    <tr>\n",
       "      <th>stevens</th>\n",
       "      <td>0.316177</td>\n",
       "    </tr>\n",
       "    <tr>\n",
       "      <th>thomas</th>\n",
       "      <td>0.729348</td>\n",
       "    </tr>\n",
       "  </tbody>\n",
       "</table>\n",
       "</div>"
      ],
      "text/plain": [
       "              post_mn\n",
       "justiceName          \n",
       "alito        0.608639\n",
       "breyer       0.423145\n",
       "ginsburg     0.389719\n",
       "kagan        0.406078\n",
       "kennedy      0.537977\n",
       "oconnor      0.526586\n",
       "rehnquist    0.595339\n",
       "roberts      0.579931\n",
       "scalia       0.662453\n",
       "sotomayor    0.382212\n",
       "souter       0.413920\n",
       "stevens      0.316177\n",
       "thomas       0.729348"
      ]
     },
     "execution_count": 126,
     "metadata": {},
     "output_type": "execute_result"
    }
   ],
   "source": [
    "av_MQ_scores = justices.groupby('justiceName').mean().drop('term', axis=1)\n",
    "av_MQ_scores"
   ]
  },
  {
   "cell_type": "code",
   "execution_count": 127,
   "metadata": {},
   "outputs": [
    {
     "data": {
      "text/html": [
       "<div>\n",
       "<style scoped>\n",
       "    .dataframe tbody tr th:only-of-type {\n",
       "        vertical-align: middle;\n",
       "    }\n",
       "\n",
       "    .dataframe tbody tr th {\n",
       "        vertical-align: top;\n",
       "    }\n",
       "\n",
       "    .dataframe thead th {\n",
       "        text-align: right;\n",
       "    }\n",
       "</style>\n",
       "<table border=\"1\" class=\"dataframe\">\n",
       "  <thead>\n",
       "    <tr style=\"text-align: right;\">\n",
       "      <th></th>\n",
       "      <th>first</th>\n",
       "      <th>last</th>\n",
       "      <th>ideology</th>\n",
       "    </tr>\n",
       "  </thead>\n",
       "  <tbody>\n",
       "    <tr>\n",
       "      <th>0</th>\n",
       "      <td>aaron</td>\n",
       "      <td>weisman</td>\n",
       "      <td>undefined</td>\n",
       "    </tr>\n",
       "    <tr>\n",
       "      <th>1</th>\n",
       "      <td>aaron</td>\n",
       "      <td>panner</td>\n",
       "      <td>0.0</td>\n",
       "    </tr>\n",
       "    <tr>\n",
       "      <th>2</th>\n",
       "      <td>aj</td>\n",
       "      <td>kramer</td>\n",
       "      <td>undefined</td>\n",
       "    </tr>\n",
       "    <tr>\n",
       "      <th>3</th>\n",
       "      <td>alan</td>\n",
       "      <td>gura</td>\n",
       "      <td>1.0</td>\n",
       "    </tr>\n",
       "    <tr>\n",
       "      <th>4</th>\n",
       "      <td>alexander</td>\n",
       "      <td>ross</td>\n",
       "      <td>undefined</td>\n",
       "    </tr>\n",
       "  </tbody>\n",
       "</table>\n",
       "</div>"
      ],
      "text/plain": [
       "       first     last   ideology\n",
       "0      aaron  weisman  undefined\n",
       "1      aaron   panner        0.0\n",
       "2         aj   kramer  undefined\n",
       "3       alan     gura        1.0\n",
       "4  alexander     ross  undefined"
      ]
     },
     "execution_count": 127,
     "metadata": {},
     "output_type": "execute_result"
    }
   ],
   "source": [
    "ideology = pd.read_csv(WORKDIR + \"/ideologyfinal.txt\", sep=\",\", names = ['first', 'last', 'ideology'])\n",
    "ideology.head()"
   ]
  },
  {
   "cell_type": "code",
   "execution_count": 131,
   "metadata": {},
   "outputs": [],
   "source": [
    "for last_name, row in av_MQ_scores.iterrows():\n",
    "    ideology.loc[ideology['last'] == last_name, 'ideology'] = row.post_mn"
   ]
  },
  {
   "cell_type": "code",
   "execution_count": 133,
   "metadata": {},
   "outputs": [
    {
     "data": {
      "text/html": [
       "<div>\n",
       "<style scoped>\n",
       "    .dataframe tbody tr th:only-of-type {\n",
       "        vertical-align: middle;\n",
       "    }\n",
       "\n",
       "    .dataframe tbody tr th {\n",
       "        vertical-align: top;\n",
       "    }\n",
       "\n",
       "    .dataframe thead th {\n",
       "        text-align: right;\n",
       "    }\n",
       "</style>\n",
       "<table border=\"1\" class=\"dataframe\">\n",
       "  <thead>\n",
       "    <tr style=\"text-align: right;\">\n",
       "      <th></th>\n",
       "      <th>first</th>\n",
       "      <th>last</th>\n",
       "      <th>ideology</th>\n",
       "    </tr>\n",
       "  </thead>\n",
       "  <tbody>\n",
       "    <tr>\n",
       "      <th>0</th>\n",
       "      <td>aaron</td>\n",
       "      <td>weisman</td>\n",
       "      <td>undefined</td>\n",
       "    </tr>\n",
       "    <tr>\n",
       "      <th>1</th>\n",
       "      <td>aaron</td>\n",
       "      <td>panner</td>\n",
       "      <td>0.0</td>\n",
       "    </tr>\n",
       "    <tr>\n",
       "      <th>2</th>\n",
       "      <td>aj</td>\n",
       "      <td>kramer</td>\n",
       "      <td>undefined</td>\n",
       "    </tr>\n",
       "    <tr>\n",
       "      <th>3</th>\n",
       "      <td>alan</td>\n",
       "      <td>gura</td>\n",
       "      <td>1.0</td>\n",
       "    </tr>\n",
       "    <tr>\n",
       "      <th>4</th>\n",
       "      <td>alexander</td>\n",
       "      <td>ross</td>\n",
       "      <td>undefined</td>\n",
       "    </tr>\n",
       "  </tbody>\n",
       "</table>\n",
       "</div>"
      ],
      "text/plain": [
       "       first     last   ideology\n",
       "0      aaron  weisman  undefined\n",
       "1      aaron   panner        0.0\n",
       "2         aj   kramer  undefined\n",
       "3       alan     gura        1.0\n",
       "4  alexander     ross  undefined"
      ]
     },
     "execution_count": 133,
     "metadata": {},
     "output_type": "execute_result"
    }
   ],
   "source": [
    "ideology.head()"
   ]
  },
  {
   "cell_type": "code",
   "execution_count": 138,
   "metadata": {},
   "outputs": [],
   "source": [
    "ideology.to_csv(WORKDIR + \"/ideologyfinal.txt\", sep = \",\")"
   ]
  }
 ],
 "metadata": {
  "kernelspec": {
   "display_name": "Python 3",
   "language": "python",
   "name": "python3"
  },
  "language_info": {
   "codemirror_mode": {
    "name": "ipython",
    "version": 3
   },
   "file_extension": ".py",
   "mimetype": "text/x-python",
   "name": "python",
   "nbconvert_exporter": "python",
   "pygments_lexer": "ipython3",
   "version": "3.6.4"
  }
 },
 "nbformat": 4,
 "nbformat_minor": 2
}
