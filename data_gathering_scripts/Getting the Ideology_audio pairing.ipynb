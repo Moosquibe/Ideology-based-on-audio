{
 "cells": [
  {
   "cell_type": "markdown",
   "metadata": {},
   "source": [
    "This pairs the name in the \"raw audio\" list with their ideology, if we know any"
   ]
  },
  {
   "cell_type": "code",
   "execution_count": 10,
   "metadata": {},
   "outputs": [],
   "source": [
    "name_audio_pairing = open(\"gathered_data/raw_wave_word.csv\", 'r')\n",
    "output_file = open(\"gathered_data/raw_wave_word_with_ideo.csv\",\"a\")\n",
    "ideologies = open(\"gathered_data/ideodefined.txt\",\"r\").readlines()\n",
    "\n",
    "ideology_dict = {}\n",
    "for ideology in ideologies:\n",
    "    firstname,lastname,ideo = ideology.split(',')\n",
    "    ideology_dict[(firstname,lastname)] = ideo\n",
    "    \n",
    "\n",
    "for entry in name_audio_pairing.readlines():\n",
    "    number, name, word, year, filename = entry.split(',')\n",
    "    nam = name.split()\n",
    "    if len(nam)==2:\n",
    "        firstname = nam[0]\n",
    "        lastname = nam[1]\n",
    "    elif len(nam)==3:\n",
    "        firstname = nam[0]\n",
    "        lastname = nam[2]\n",
    "        \n",
    "    \n",
    "    ideology = ideology_dict.get((firstname, lastname))\n",
    "    output_file.write(firstname+' '+lastname+','+str(ideology)[:-1]+','+word+','+year+','+filename)\n",
    "\n",
    "output_file.close()\n",
    "name_audio_pairing.close()"
   ]
  }
 ],
 "metadata": {
  "kernelspec": {
   "display_name": "Python 3",
   "language": "python",
   "name": "python3"
  },
  "language_info": {
   "codemirror_mode": {
    "name": "ipython",
    "version": 3
   },
   "file_extension": ".py",
   "mimetype": "text/x-python",
   "name": "python",
   "nbconvert_exporter": "python",
   "pygments_lexer": "ipython3",
   "version": "3.6.3"
  }
 },
 "nbformat": 4,
 "nbformat_minor": 2
}
