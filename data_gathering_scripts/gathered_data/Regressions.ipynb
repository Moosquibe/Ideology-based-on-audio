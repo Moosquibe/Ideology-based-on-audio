{
 "cells": [
  {
   "cell_type": "code",
   "execution_count": 83,
   "metadata": {
    "collapsed": true
   },
   "outputs": [],
   "source": [
    "import os\n",
    "import io\n",
    "import operator\n",
    "import pandas as pd\n",
    "import numpy as np\n",
    "from sklearn.linear_model import Lasso, ElasticNet, Ridge\n",
    "from sklearn.model_selection import LeaveOneOut, KFold\n",
    "import matplotlib.pyplot as plt\n",
    "import sklearn.metrics as skm\n",
    "\n",
    "%matplotlib inline\n",
    "\n",
    "\n",
    "\n",
    "CHARGED=\"charged/\"\n",
    "NON_CHARGED=\"non_charged/\""
   ]
  },
  {
   "cell_type": "markdown",
   "metadata": {},
   "source": [
    "# Functions to extract the data and put it as a DataFrame"
   ]
  },
  {
   "cell_type": "code",
   "execution_count": 84,
   "metadata": {
    "collapsed": false
   },
   "outputs": [],
   "source": [
    "def file_len(fname):\n",
    "    with open(fname) as f:\n",
    "        for i, l in enumerate(f):\n",
    "            pass\n",
    "    return i + 1\n",
    "\n",
    "def sorted_dictionary(folder):\n",
    "    len_file={}\n",
    "    for filename in os.listdir(folder):\n",
    "        len_file[filename]=file_len(folder+filename)\n",
    "    sorted_len_file=sorted(len_file.items(), key=lambda x: -x[1])\n",
    "    return sorted_len_file"
   ]
  },
  {
   "cell_type": "code",
   "execution_count": 85,
   "metadata": {
    "collapsed": true
   },
   "outputs": [],
   "source": [
    "def create_list(fname):\n",
    "    l=[]\n",
    "    fname=fname\n",
    "    file=open(fname,'r')\n",
    "    file=file.readlines()\n",
    "    for e in file:\n",
    "        e=e.replace(' ','')\n",
    "        e=e[:-1].split(',')\n",
    "        ideology=float(e[0])\n",
    "        count=int(e[1])\n",
    "        freq1=float(e[2])\n",
    "        freq2=float(e[3])\n",
    "        duration=float(e[4])\n",
    "        F11=float(e[5])\n",
    "        F12=float(e[6])\n",
    "        F13=float(e[7])\n",
    "        F21=float(e[8])\n",
    "        F22=float(e[9])\n",
    "        F23=float(e[10])\n",
    "        l.append([ideology,count,freq1,freq2,duration,F11,F12,F13,F21,F22,F23])\n",
    "    return l       "
   ]
  },
  {
   "cell_type": "code",
   "execution_count": 86,
   "metadata": {
    "collapsed": true
   },
   "outputs": [],
   "source": [
    "def create_dataset(folder,file):\n",
    "    l_df=create_list(folder+file)\n",
    "    col=['Ideology','Count','Freq1','Freq2','Duration','F11','F12','F13','F21','F22','F23']\n",
    "    df=pd.DataFrame(l_df)\n",
    "    df.columns=col\n",
    "    y=df['Ideology']\n",
    "    x=df.drop('Ideology',axis=1)\n",
    "    x=df.drop('Count',axis=1)\n",
    "    y[y>0.5]=1\n",
    "    y[y<0.5]=0\n",
    "    return x,y"
   ]
  },
  {
   "cell_type": "markdown",
   "metadata": {},
   "source": [
    "# Functions to extract the score for each regressor and find the optimal regularization"
   ]
  },
  {
   "cell_type": "code",
   "execution_count": 87,
   "metadata": {
    "collapsed": false
   },
   "outputs": [],
   "source": [
    "def score_regressor(regressor,x,y,lambdas,split_size=5):\n",
    "    if split_size>len(y):\n",
    "        if len(y)>1:\n",
    "            split_size=len(y)\n",
    "        else:\n",
    "            return -1\n",
    "    scores=[]\n",
    "    kf=KFold(n_splits=split_size)\n",
    "    for train_index, test_index in kf.split(x):\n",
    "        history=[]\n",
    "        X_train, X_test = x.T[train_index].T, x.T[test_index].T\n",
    "        y_train, y_test = y.T[train_index].T, y.T[test_index].T\n",
    "        for i in range(len(lambdas)):\n",
    "            l=lambdas[i]\n",
    "            if regressor=='Lasso':\n",
    "                lr=Lasso(alpha=l,normalize=True)\n",
    "            elif regressor=='Ridge':\n",
    "                lr=Ridge(alpha=l,normalize=True)\n",
    "            else:\n",
    "                lr=ElasticNet(alpha=l,normalize=True)\n",
    "            lr.fit(X_train,y_train)\n",
    "            score=lr.score(X_test,y_test)\n",
    "            history.append(score)\n",
    "        scores.append(history)\n",
    "    s_reg=np.zeros(len(lambdas))\n",
    "    for e in scores:\n",
    "        for i in range(len(e)):\n",
    "            s_reg[i]+=e[i]/len(scores)\n",
    "    return s_reg\n",
    "\n",
    "def score_lasso_ridge_elastic(x,y,lambdas,split_size=5):\n",
    "    s_lasso=score_regressor('Lasso',x,y,lambdas,split_size)\n",
    "    s_ridge=score_regressor('Ridge',x,y,lambdas,split_size)\n",
    "    s_elastic=score_regressor('Elastic',x,y,lambdas,split_size)\n",
    "    return s_lasso,s_ridge,s_elastic"
   ]
  },
  {
   "cell_type": "code",
   "execution_count": 88,
   "metadata": {
    "collapsed": false
   },
   "outputs": [],
   "source": [
    "def optimal_lambda(s_lasso,s_ridge,s_elastic):\n",
    "    lambda_lasso=lambdas[list(s_lasso).index(max(s_lasso))]\n",
    "    lambda_ridge=lambdas[list(s_ridge).index(max(s_ridge))]\n",
    "    lambda_elastic=lambdas[list(s_elastic).index(max(s_elastic))]\n",
    "    #print('The lambdas we will choose are \\n lambda_lasso='+str(lambda_lasso)+'\\n lambda_ridge='+str(lambda_ridge)+'\\n lambda_elastic='+str(lambda_elastic))\n",
    "    return lambda_lasso,lambda_ridge,lambda_elastic"
   ]
  },
  {
   "cell_type": "markdown",
   "metadata": {
    "collapsed": true
   },
   "source": [
    "# Let's run this on an example"
   ]
  },
  {
   "cell_type": "code",
   "execution_count": 89,
   "metadata": {
    "collapsed": false
   },
   "outputs": [],
   "source": [
    "sorted_len_file=sorted_dictionary(CHARGED)"
   ]
  },
  {
   "cell_type": "markdown",
   "metadata": {},
   "source": [
    "The format of this dictionary is the following:\n",
    "\n",
    "$$(\\text{file name},\\text{instances in that file})$$\n",
    "\n",
    "Here are the 5 top entries:"
   ]
  },
  {
   "cell_type": "code",
   "execution_count": 90,
   "metadata": {
    "collapsed": false
   },
   "outputs": [
    {
     "data": {
      "text/plain": [
       "[('MR_ER_2.0.txt', 105),\n",
       " ('MR_IH_1.0.txt', 105),\n",
       " ('HONOR_ER_2.0.txt', 99),\n",
       " ('HONOR_AA_1.0.txt', 99),\n",
       " ('FEDERAL_EH_1.0.txt', 85)]"
      ]
     },
     "execution_count": 90,
     "metadata": {},
     "output_type": "execute_result"
    }
   ],
   "source": [
    "sorted_len_file[:5]"
   ]
  },
  {
   "cell_type": "code",
   "execution_count": 91,
   "metadata": {
    "collapsed": false
   },
   "outputs": [
    {
     "name": "stderr",
     "output_type": "stream",
     "text": [
      "//anaconda/lib/python3.5/site-packages/ipykernel/__main__.py:9: SettingWithCopyWarning: \n",
      "A value is trying to be set on a copy of a slice from a DataFrame\n",
      "\n",
      "See the caveats in the documentation: http://pandas.pydata.org/pandas-docs/stable/indexing.html#indexing-view-versus-copy\n",
      "//anaconda/lib/python3.5/site-packages/ipykernel/__main__.py:10: SettingWithCopyWarning: \n",
      "A value is trying to be set on a copy of a slice from a DataFrame\n",
      "\n",
      "See the caveats in the documentation: http://pandas.pydata.org/pandas-docs/stable/indexing.html#indexing-view-versus-copy\n"
     ]
    }
   ],
   "source": [
    "x,y=create_dataset(CHARGED,sorted_len_file[0][0])"
   ]
  },
  {
   "cell_type": "markdown",
   "metadata": {},
   "source": [
    "Here are the first ten entries of the resulting $X$:"
   ]
  },
  {
   "cell_type": "code",
   "execution_count": 92,
   "metadata": {
    "collapsed": false
   },
   "outputs": [
    {
     "data": {
      "text/html": [
       "<div>\n",
       "<style scoped>\n",
       "    .dataframe tbody tr th:only-of-type {\n",
       "        vertical-align: middle;\n",
       "    }\n",
       "\n",
       "    .dataframe tbody tr th {\n",
       "        vertical-align: top;\n",
       "    }\n",
       "\n",
       "    .dataframe thead th {\n",
       "        text-align: right;\n",
       "    }\n",
       "</style>\n",
       "<table border=\"1\" class=\"dataframe\">\n",
       "  <thead>\n",
       "    <tr style=\"text-align: right;\">\n",
       "      <th></th>\n",
       "      <th>Ideology</th>\n",
       "      <th>Freq1</th>\n",
       "      <th>Freq2</th>\n",
       "      <th>Duration</th>\n",
       "      <th>F11</th>\n",
       "      <th>F12</th>\n",
       "      <th>F13</th>\n",
       "      <th>F21</th>\n",
       "      <th>F22</th>\n",
       "      <th>F23</th>\n",
       "    </tr>\n",
       "  </thead>\n",
       "  <tbody>\n",
       "    <tr>\n",
       "      <th>0</th>\n",
       "      <td>0.000000</td>\n",
       "      <td>464.500000</td>\n",
       "      <td>1778.000000</td>\n",
       "      <td>0.060000</td>\n",
       "      <td>468.000000</td>\n",
       "      <td>465.500000</td>\n",
       "      <td>506.500000</td>\n",
       "      <td>1766.500000</td>\n",
       "      <td>1830.000000</td>\n",
       "      <td>1976.000000</td>\n",
       "    </tr>\n",
       "    <tr>\n",
       "      <th>1</th>\n",
       "      <td>0.287978</td>\n",
       "      <td>575.293051</td>\n",
       "      <td>1714.894260</td>\n",
       "      <td>0.058124</td>\n",
       "      <td>608.833837</td>\n",
       "      <td>573.622356</td>\n",
       "      <td>587.706949</td>\n",
       "      <td>1763.235650</td>\n",
       "      <td>1708.492447</td>\n",
       "      <td>1702.299094</td>\n",
       "    </tr>\n",
       "    <tr>\n",
       "      <th>2</th>\n",
       "      <td>0.267543</td>\n",
       "      <td>590.563660</td>\n",
       "      <td>1630.338196</td>\n",
       "      <td>0.054023</td>\n",
       "      <td>623.214854</td>\n",
       "      <td>586.973475</td>\n",
       "      <td>585.263926</td>\n",
       "      <td>1689.190981</td>\n",
       "      <td>1615.009284</td>\n",
       "      <td>1629.224138</td>\n",
       "    </tr>\n",
       "    <tr>\n",
       "      <th>3</th>\n",
       "      <td>1.000000</td>\n",
       "      <td>535.666667</td>\n",
       "      <td>1611.333333</td>\n",
       "      <td>0.047000</td>\n",
       "      <td>547.333333</td>\n",
       "      <td>535.666667</td>\n",
       "      <td>529.333333</td>\n",
       "      <td>1659.666667</td>\n",
       "      <td>1560.000000</td>\n",
       "      <td>1514.333333</td>\n",
       "    </tr>\n",
       "    <tr>\n",
       "      <th>4</th>\n",
       "      <td>0.020829</td>\n",
       "      <td>534.166667</td>\n",
       "      <td>1854.666667</td>\n",
       "      <td>0.059667</td>\n",
       "      <td>535.000000</td>\n",
       "      <td>526.333333</td>\n",
       "      <td>507.166667</td>\n",
       "      <td>1858.000000</td>\n",
       "      <td>1765.333333</td>\n",
       "      <td>1838.166667</td>\n",
       "    </tr>\n",
       "    <tr>\n",
       "      <th>5</th>\n",
       "      <td>0.436437</td>\n",
       "      <td>476.000000</td>\n",
       "      <td>1685.000000</td>\n",
       "      <td>0.060000</td>\n",
       "      <td>482.500000</td>\n",
       "      <td>481.000000</td>\n",
       "      <td>587.500000</td>\n",
       "      <td>1673.000000</td>\n",
       "      <td>1674.500000</td>\n",
       "      <td>1662.000000</td>\n",
       "    </tr>\n",
       "    <tr>\n",
       "      <th>6</th>\n",
       "      <td>0.494919</td>\n",
       "      <td>577.100000</td>\n",
       "      <td>1904.600000</td>\n",
       "      <td>0.050100</td>\n",
       "      <td>582.600000</td>\n",
       "      <td>557.000000</td>\n",
       "      <td>607.200000</td>\n",
       "      <td>1897.100000</td>\n",
       "      <td>1922.300000</td>\n",
       "      <td>1940.000000</td>\n",
       "    </tr>\n",
       "    <tr>\n",
       "      <th>7</th>\n",
       "      <td>0.430435</td>\n",
       "      <td>607.714286</td>\n",
       "      <td>1600.142857</td>\n",
       "      <td>0.075714</td>\n",
       "      <td>608.285714</td>\n",
       "      <td>636.285714</td>\n",
       "      <td>632.714286</td>\n",
       "      <td>1616.714286</td>\n",
       "      <td>1583.142857</td>\n",
       "      <td>1565.428571</td>\n",
       "    </tr>\n",
       "    <tr>\n",
       "      <th>8</th>\n",
       "      <td>0.072612</td>\n",
       "      <td>555.600000</td>\n",
       "      <td>1747.600000</td>\n",
       "      <td>0.030000</td>\n",
       "      <td>555.600000</td>\n",
       "      <td>585.200000</td>\n",
       "      <td>624.200000</td>\n",
       "      <td>1747.600000</td>\n",
       "      <td>1762.200000</td>\n",
       "      <td>1775.800000</td>\n",
       "    </tr>\n",
       "    <tr>\n",
       "      <th>9</th>\n",
       "      <td>0.333333</td>\n",
       "      <td>460.500000</td>\n",
       "      <td>1676.500000</td>\n",
       "      <td>0.030000</td>\n",
       "      <td>460.500000</td>\n",
       "      <td>447.500000</td>\n",
       "      <td>434.500000</td>\n",
       "      <td>1676.500000</td>\n",
       "      <td>1675.000000</td>\n",
       "      <td>1672.000000</td>\n",
       "    </tr>\n",
       "  </tbody>\n",
       "</table>\n",
       "</div>"
      ],
      "text/plain": [
       "   Ideology       Freq1        Freq2  Duration         F11         F12  \\\n",
       "0  0.000000  464.500000  1778.000000  0.060000  468.000000  465.500000   \n",
       "1  0.287978  575.293051  1714.894260  0.058124  608.833837  573.622356   \n",
       "2  0.267543  590.563660  1630.338196  0.054023  623.214854  586.973475   \n",
       "3  1.000000  535.666667  1611.333333  0.047000  547.333333  535.666667   \n",
       "4  0.020829  534.166667  1854.666667  0.059667  535.000000  526.333333   \n",
       "5  0.436437  476.000000  1685.000000  0.060000  482.500000  481.000000   \n",
       "6  0.494919  577.100000  1904.600000  0.050100  582.600000  557.000000   \n",
       "7  0.430435  607.714286  1600.142857  0.075714  608.285714  636.285714   \n",
       "8  0.072612  555.600000  1747.600000  0.030000  555.600000  585.200000   \n",
       "9  0.333333  460.500000  1676.500000  0.030000  460.500000  447.500000   \n",
       "\n",
       "          F13          F21          F22          F23  \n",
       "0  506.500000  1766.500000  1830.000000  1976.000000  \n",
       "1  587.706949  1763.235650  1708.492447  1702.299094  \n",
       "2  585.263926  1689.190981  1615.009284  1629.224138  \n",
       "3  529.333333  1659.666667  1560.000000  1514.333333  \n",
       "4  507.166667  1858.000000  1765.333333  1838.166667  \n",
       "5  587.500000  1673.000000  1674.500000  1662.000000  \n",
       "6  607.200000  1897.100000  1922.300000  1940.000000  \n",
       "7  632.714286  1616.714286  1583.142857  1565.428571  \n",
       "8  624.200000  1747.600000  1762.200000  1775.800000  \n",
       "9  434.500000  1676.500000  1675.000000  1672.000000  "
      ]
     },
     "execution_count": 92,
     "metadata": {},
     "output_type": "execute_result"
    }
   ],
   "source": [
    "x.head(10)"
   ]
  },
  {
   "cell_type": "markdown",
   "metadata": {
    "collapsed": false
   },
   "source": [
    "and the first ten entries of $Y$:"
   ]
  },
  {
   "cell_type": "code",
   "execution_count": 93,
   "metadata": {
    "collapsed": false
   },
   "outputs": [
    {
     "data": {
      "text/plain": [
       "0    0.0\n",
       "1    0.0\n",
       "2    0.0\n",
       "3    1.0\n",
       "4    0.0\n",
       "5    0.0\n",
       "6    0.0\n",
       "7    0.0\n",
       "8    0.0\n",
       "9    0.0\n",
       "Name: Ideology, dtype: float64"
      ]
     },
     "execution_count": 93,
     "metadata": {},
     "output_type": "execute_result"
    }
   ],
   "source": [
    "y.head(10)"
   ]
  },
  {
   "cell_type": "code",
   "execution_count": 94,
   "metadata": {
    "collapsed": true
   },
   "outputs": [],
   "source": [
    "lambdas=np.arange(1e-3,4e-2,1e-3)\n",
    "s_lasso,s_ridge,s_elastic=score_lasso_ridge_elastic(x,y,lambdas)"
   ]
  },
  {
   "cell_type": "code",
   "execution_count": 95,
   "metadata": {
    "collapsed": false
   },
   "outputs": [
    {
     "data": {
      "text/plain": [
       "<matplotlib.legend.Legend at 0x1a197c2c18>"
      ]
     },
     "execution_count": 95,
     "metadata": {},
     "output_type": "execute_result"
    },
    {
     "data": {
      "image/png": "[encoded data removed]",
      "text/plain": [
       "<matplotlib.figure.Figure at 0x1a198f0048>"
      ]
     },
     "metadata": {},
     "output_type": "display_data"
    }
   ],
   "source": [
    "fig = plt.figure(figsize = (12, 6))\n",
    "ax = plt.subplot(111)\n",
    "plt.plot(lambdas,s_ridge,label='Ridge regression')\n",
    "plt.plot(lambdas,s_lasso,label='Lasso Regression')\n",
    "plt.plot(lambdas,s_elastic,label='Elastic net')\n",
    "plt.xlabel('Regularization strength (\\lambda)')\n",
    "plt.ylabel('Score')\n",
    "plt.title('Evolution of score with regularization strength')\n",
    "box = ax.get_position()\n",
    "ax.set_position([box.x0, box.y0 + box.height * 0.0 , box.width, box.height * 1])\n",
    "ax.legend(loc = 'upper center', bbox_to_anchor = (0.5, -0.15), fancybox = True, \n",
    "              shadow = True, ncol = 4, prop = {'size':10})"
   ]
  },
  {
   "cell_type": "code",
   "execution_count": 96,
   "metadata": {
    "collapsed": false
   },
   "outputs": [],
   "source": [
    "lambda_lasso,lambda_ridge,lambda_elastic=optimal_lambda(s_lasso,s_ridge,s_elastic)"
   ]
  },
  {
   "cell_type": "markdown",
   "metadata": {
    "collapsed": true
   },
   "source": [
    "# Functions to compute AUC and Accuracy"
   ]
  },
  {
   "cell_type": "code",
   "execution_count": 97,
   "metadata": {
    "collapsed": false
   },
   "outputs": [],
   "source": [
    "def AUC_regressor(type_of_regressor,x,y,lambda_lasso=lambda_lasso,lambda_ridge=lambda_ridge,lamda_elastic=lambda_elastic,split_size=5):\n",
    "    if split_size>len(y):\n",
    "        if len(y)>1:\n",
    "            split_size=len(y)\n",
    "        else:\n",
    "            return -1\n",
    "    fig = plt.figure(figsize = (12, 6))\n",
    "    ax = plt.subplot(111)\n",
    "    kf=KFold(n_splits=split_size)\n",
    "    for train_index, test_index in kf.split(x):\n",
    "        history=[]\n",
    "        X_train, X_test = x.T[train_index].T, x.T[test_index].T\n",
    "        y_train, y_test = y.T[train_index].T, y.T[test_index].T\n",
    "        if type_of_regressor=='Ridge':\n",
    "            lr=Ridge(alpha=lambda_ridge,normalize=True)\n",
    "        elif type_of_regressor=='Lasso':\n",
    "            lr=Lasso(alpha=lambda_lasso,normalize=True)\n",
    "        else:\n",
    "            lr=ElasticNet(alpha=lambda_elastic,normalize=True)\n",
    "        lr.fit(X_train,y_train)\n",
    "        y_predict=lr.predict(X_test)\n",
    "        y_predict[y_predict>0.5]=1\n",
    "        y_predict[y_predict<0.5]=0\n",
    "        y_predict=y_predict.astype(int)\n",
    "        y_test=y_test.astype(int)\n",
    "        fpr, tpr, thresholds =skm.roc_curve(y_test,y_predict)\n",
    "        roc_auc = skm.auc(fpr, tpr)\n",
    "        print(roc_auc)\n",
    "        plt.plot(fpr,tpr, label = 'Lasso regression' + ' (AUC = %0.3f)' % roc_auc)\n",
    "        plt.xlabel('FPR')\n",
    "        plt.ylabel('TPR')\n",
    "        plt.title('ROC')\n",
    "        box = ax.get_position()\n",
    "        ax.set_position([box.x0, box.y0 + box.height * 0.0 , box.width, box.height * 1])\n",
    "        ax.legend(loc = 'upper center', bbox_to_anchor = (0.5, -0.15), fancybox = True, \n",
    "                      shadow = True, ncol = 4, prop = {'size':10})"
   ]
  },
  {
   "cell_type": "code",
   "execution_count": 98,
   "metadata": {
    "collapsed": false
   },
   "outputs": [],
   "source": [
    "def Accuracy_regressor(type_of_regressor,x,y,lambda_reg,split_size=5):\n",
    "    if split_size>len(y):\n",
    "        if len(y)>1:\n",
    "            split_size=len(y)\n",
    "        else:\n",
    "            return -1\n",
    "        split_size=len(y)\n",
    "    kf=KFold(n_splits=split_size)\n",
    "    accuracy=0\n",
    "    for train_index, test_index in kf.split(x):\n",
    "        history=[]\n",
    "        X_train, X_test = x.T[train_index].T, x.T[test_index].T\n",
    "        y_train, y_test = y.T[train_index].T, y.T[test_index].T\n",
    "        if type_of_regressor=='Ridge':\n",
    "            lr=Ridge(alpha=lambda_reg,normalize=True)\n",
    "        elif type_of_regressor=='Lasso':\n",
    "            lr=Lasso(alpha=lambda_reg,normalize=True)\n",
    "        else:\n",
    "            lr=ElasticNet(alpha=lambda_reg,normalize=True)\n",
    "        lr.fit(X_train,y_train)\n",
    "        y_predict=lr.predict(X_test)\n",
    "        y_predict[y_predict>0.5]=1\n",
    "        y_predict[y_predict<0.5]=0\n",
    "        y_predict=list(y_predict)\n",
    "        y_test=list(y_test)\n",
    "        acc=0\n",
    "        for i in range(len(y_test)):\n",
    "            if y_test[i]==y_predict[i]:\n",
    "                acc+=1\n",
    "        accuracy+=acc/len(y_predict)\n",
    "    return accuracy/split_size\n",
    "\n",
    "def Accuracy_lasso_ridge_elastic(x,y,lambda_lasso,lambda_ridge,lambda_elastic,split_size=5):\n",
    "    lasso=Accuracy_regressor('Lasso',x,y,lambda_lasso,split_size)\n",
    "    ridge=Accuracy_regressor('Ridge',x,y,lambda_ridge,split_size)\n",
    "    ela=Accuracy_regressor('Elastic',x,y,lambda_elastic,split_size)\n",
    "    return lasso,ridge,ela"
   ]
  },
  {
   "cell_type": "code",
   "execution_count": 114,
   "metadata": {
    "collapsed": false
   },
   "outputs": [],
   "source": [
    "#Find the optimal k for the corss-validation\n",
    "#acc_lasso=[]\n",
    "#acc_ridge=[]\n",
    "#acc_ela=[]\n",
    "#range_k=range(2,20,1)\n",
    "#for k in range_k:\n",
    "#    lasso=Accuracy_regressor('Lasso',x,y,split_size=k)\n",
    "#    ridge=Accuracy_regressor('Ridge',x,y,split_size=k)\n",
    "#    ela=Accuracy_regressor('Elastic',x,y,split_size=k)\n",
    "#    acc_lasso.append(lasso)\n",
    "#    acc_ridge.append(ridge)\n",
    "#    acc_ela.append(ela)\n",
    "#plt.plot(acc_ela)"
   ]
  },
  {
   "cell_type": "markdown",
   "metadata": {},
   "source": [
    "# Function to get accuracy on all files"
   ]
  },
  {
   "cell_type": "markdown",
   "metadata": {},
   "source": [
    "Function that returns the accuracy for each regressor for each file in the following lists:\n",
    "\n",
    "$$\\text{acc_lasso},\\text{acc_ridge},\\text{acc_ela}$$\n",
    "\n",
    "returns dictionaries for each type of regression:\n",
    "\n",
    "$$\\text{d_lasso},\\text{d_ridge},\\text{d_ela}$$\n",
    "\n",
    "The keys are the size of the input, the values are the accuracies for a given input size.\n",
    "\n",
    "also return $\\text{x_axis}$ which contains in the correct order the length of each file, which is useful when we try to plot the figures later"
   ]
  },
  {
   "cell_type": "code",
   "execution_count": 100,
   "metadata": {
    "collapsed": false
   },
   "outputs": [],
   "source": [
    "lambdas=np.arange(1e-3,4e-2,1e-3)\n",
    "def accuracy_on_all_files(folder):\n",
    "    sorted_len_file=sorted_dictionary(folder)\n",
    "    acc_lasso=[]\n",
    "    acc_ridge=[]\n",
    "    acc_ela=[]\n",
    "    x_axis=[]\n",
    "    k=0\n",
    "    d_lasso={}\n",
    "    d_ridge={}\n",
    "    d_ela={}\n",
    "    for file in sorted_len_file:\n",
    "        d_lasso[file_len(folder+file[0])]=[]\n",
    "        d_ridge[file_len(folder+file[0])]=[]\n",
    "        d_ela[file_len(folder+file[0])]=[]\n",
    "    for file in sorted_len_file:\n",
    "        if k%10==0:\n",
    "            print(str(100*k/len(sorted_len_file))+\"% complete\")\n",
    "        n=file_len(folder+file[0])\n",
    "        if n<2:\n",
    "            print(file[0]+\"was too small\")\n",
    "        else:\n",
    "            x_axis.append(file_len(folder+file[0]))\n",
    "            x,y=create_dataset(folder,file[0])\n",
    "            s_lasso, s_ridge, s_elastic=score_lasso_ridge_elastic(x,y,lambdas)\n",
    "            lambda_lasso,lambda_ridge,lambda_elastic=optimal_lambda(s_lasso, s_ridge, s_elastic)\n",
    "            lasso,ridge,ela=Accuracy_lasso_ridge_elastic(x,y,lambda_lasso,lambda_ridge,lambda_elastic)\n",
    "            acc_lasso.append(lasso)\n",
    "            acc_ridge.append(ridge)\n",
    "            acc_ela.append(ela)\n",
    "            d_lasso[n].append(lasso)\n",
    "            d_ridge[n].append(ridge)\n",
    "            d_ela[n].append(ela)\n",
    "            k+=1\n",
    "    return acc_lasso,acc_ridge,acc_ela,d_lasso,d_ridge,d_ela,x_axis"
   ]
  },
  {
   "cell_type": "markdown",
   "metadata": {},
   "source": [
    "# Functions to average the accuracy for each key in the dictionaries and functions to plot the results obtained from accuracy_on_all_files"
   ]
  },
  {
   "cell_type": "code",
   "execution_count": 138,
   "metadata": {
    "collapsed": false
   },
   "outputs": [],
   "source": [
    "def average_dictionaries(d_lasso,d_ridge,d_ela):\n",
    "    for key in d_lasso:\n",
    "        try:\n",
    "            d_lasso[key]=sum(d_lasso[key])/len(d_lasso[key])\n",
    "        except ZeroDivisionError:\n",
    "            d_lasso[key]=0\n",
    "    for key in d_ridge:\n",
    "        try:\n",
    "            d_ridge[key]=sum(d_ridge[key])/len(d_ridge[key])\n",
    "        except ZeroDivisionError:\n",
    "            d_ridge[key]=0\n",
    "    for key in d_ela:\n",
    "        try:\n",
    "            d_ela[key]=sum(d_ela[key])/len(d_ela[key])\n",
    "        except ZeroDivisionError:\n",
    "            d_ela[key]=0\n",
    "def plot_lists_from_dictionaries(d_lasso,d_ridge,d_ela,x_axis):\n",
    "    d_lasso_list=[]\n",
    "    d_ridge_list=[]\n",
    "    d_ela_list=[]\n",
    "    for p in x_axis:\n",
    "        d_lasso_list.append(d_lasso[p])\n",
    "        d_ridge_list.append(d_ridge[p])\n",
    "        d_ela_list.append(d_ela[p])\n",
    "    return d_lasso_list,d_ridge_list,d_ela_list\n",
    "\n",
    "def plot_regressor_accuracy(regressor,x_axis,acc_reg,d_reg_list):\n",
    "    fig = plt.figure(figsize = (12, 6))\n",
    "    ax = plt.subplot(111)\n",
    "    plt.scatter(x_axis,acc_reg,label='Accuracy of '+regressor+' regression')\n",
    "    plt.plot(x_axis,d_reg_list,color='r',label='Average performance')\n",
    "    plt.xlabel('Size of file')\n",
    "    plt.ylabel('Accuracy')\n",
    "    plt.title('Evolution of accuracy with the size of the file')\n",
    "    box = ax.get_position()\n",
    "    ax.set_position([box.x0, box.y0 + box.height * 0.0 , box.width, box.height * 1])\n",
    "    ax.legend(loc = 'upper center', bbox_to_anchor = (0.5, -0.15), fancybox = True, \n",
    "                  shadow = True, ncol = 4, prop = {'size':10})"
   ]
  },
  {
   "cell_type": "markdown",
   "metadata": {},
   "source": [
    "# Let's now apply those functions to evaluate how we perform on ideologically charged words"
   ]
  },
  {
   "cell_type": "code",
   "execution_count": 118,
   "metadata": {
    "collapsed": false
   },
   "outputs": [
    {
     "name": "stderr",
     "output_type": "stream",
     "text": [
      "//anaconda/lib/python3.5/site-packages/ipykernel/__main__.py:9: SettingWithCopyWarning: \n",
      "A value is trying to be set on a copy of a slice from a DataFrame\n",
      "\n",
      "See the caveats in the documentation: http://pandas.pydata.org/pandas-docs/stable/indexing.html#indexing-view-versus-copy\n",
      "//anaconda/lib/python3.5/site-packages/ipykernel/__main__.py:10: SettingWithCopyWarning: \n",
      "A value is trying to be set on a copy of a slice from a DataFrame\n",
      "\n",
      "See the caveats in the documentation: http://pandas.pydata.org/pandas-docs/stable/indexing.html#indexing-view-versus-copy\n"
     ]
    },
    {
     "name": "stdout",
     "output_type": "stream",
     "text": [
      "0.0% complete\n",
      "6.944444444444445% complete\n",
      "13.88888888888889% complete\n",
      "20.833333333333332% complete\n",
      "27.77777777777778% complete\n",
      "34.72222222222222% complete\n",
      "41.666666666666664% complete\n",
      "48.611111111111114% complete\n",
      "55.55555555555556% complete\n",
      "62.5% complete\n",
      "69.44444444444444% complete\n",
      "76.38888888888889% complete\n",
      "POLICY_AH_1.0.txtwas too small\n",
      "76.38888888888889% complete\n",
      "GOVERNMENT_AH_6.0.txtwas too small\n",
      "76.38888888888889% complete\n",
      "POLICY_AA_4.0.txtwas too small\n",
      "76.38888888888889% complete\n",
      "KENNEDY_AH_5.0.txtwas too small\n",
      "76.38888888888889% complete\n",
      "PEOPLE_IY_2.0.txtwas too small\n",
      "76.38888888888889% complete\n",
      "POLICY_IY_2.0.txtwas too small\n",
      "76.38888888888889% complete\n",
      "AUTHORITY_IY_2.0.txtwas too small\n",
      "76.38888888888889% complete\n",
      "HONOR_ER_3.0.txtwas too small\n",
      "76.38888888888889% complete\n",
      "LEGISLATIVE_EH_5.0.txtwas too small\n",
      "76.38888888888889% complete\n",
      "LEGISLATURE_AH_1.0.txtwas too small\n",
      "76.38888888888889% complete\n",
      "GOVERNMENT_ER_5.0.txtwas too small\n",
      "76.38888888888889% complete\n",
      "KENNEDY_IY_6.0.txtwas too small\n",
      "76.38888888888889% complete\n",
      "CALIFORNIA_AH_1.0.txtwas too small\n",
      "76.38888888888889% complete\n",
      "GOVERNMENT_AH_4.0.txtwas too small\n",
      "76.38888888888889% complete\n",
      "POLICY_IY_6.0.txtwas too small\n",
      "76.38888888888889% complete\n",
      "LEGISLATIVE_AH_6.0.txtwas too small\n",
      "76.38888888888889% complete\n",
      "CONSTITUTIONAL_AH_3.0.txtwas too small\n",
      "76.38888888888889% complete\n",
      "LEGISLATIVE_IH_8.0.txtwas too small\n",
      "76.38888888888889% complete\n",
      "GINSBURG_ER_4.0.txtwas too small\n",
      "76.38888888888889% complete\n",
      "MR_IH_2.0.txtwas too small\n",
      "76.38888888888889% complete\n",
      "CONSTITUTION_UW_2.0.txtwas too small\n",
      "76.38888888888889% complete\n",
      "KENNEDY_EH_4.0.txtwas too small\n",
      "76.38888888888889% complete\n",
      "HONOR_ER_4.0.txtwas too small\n",
      "76.38888888888889% complete\n",
      "FEDERAL_ER_4.0.txtwas too small\n",
      "76.38888888888889% complete\n",
      "CONSTITUTION_AH_1.0.txtwas too small\n",
      "76.38888888888889% complete\n",
      "LEGISLATURE_EY_2.0.txtwas too small\n",
      "76.38888888888889% complete\n",
      "CONSTITUTION_AH_3.0.txtwas too small\n",
      "76.38888888888889% complete\n",
      "GINSBURG_IH_3.0.txtwas too small\n",
      "76.38888888888889% complete\n",
      "PEOPLE_AH_3.0.txtwas too small\n",
      "76.38888888888889% complete\n",
      "HONOR_AA_3.0.txtwas too small\n",
      "76.38888888888889% complete\n",
      "LEGISLATIVE_EY_7.0.txtwas too small\n",
      "76.38888888888889% complete\n",
      "POLICY_AH_5.0.txtwas too small\n",
      "76.38888888888889% complete\n",
      "CONSTITUTIONAL_UW_2.0.txtwas too small\n",
      "76.38888888888889% complete\n",
      "CONGRESS_AA_2.0.txtwas too small\n"
     ]
    },
    {
     "name": "stderr",
     "output_type": "stream",
     "text": [
      "//anaconda/lib/python3.5/site-packages/sklearn/linear_model/coordinate_descent.py:491: ConvergenceWarning: Objective did not converge. You might want to increase the number of iterations. Fitting data with very small alpha may cause precision problems.\n",
      "  ConvergenceWarning)\n"
     ]
    }
   ],
   "source": [
    "acc_lasso_charged,acc_ridge_charged,acc_ela_charged,d_lasso_charged,d_ridge_charged,d_ela_charged,x_axis_charged=accuracy_on_all_files(CHARGED)\n",
    "average_dictionaries(d_lasso_charged,d_ridge_charged,d_ela_charged)\n",
    "d_lasso_list_charged,d_ridge_list_charged,d_ela_list_charged=plot_lists_from_dictionaries(d_lasso_charged,d_ridge_charged,d_ela_charged,x_axis_charged)"
   ]
  },
  {
   "cell_type": "code",
   "execution_count": 139,
   "metadata": {
    "collapsed": false,
    "scrolled": false
   },
   "outputs": [
    {
     "data": {
      "image/png": "[encoded data removed]",
      "text/plain": [
       "<matplotlib.figure.Figure at 0x1a1aa91470>"
      ]
     },
     "metadata": {},
     "output_type": "display_data"
    },
    {
     "data": {
      "image/png": "[encoded data removed]",
      "text/plain": [
       "<matplotlib.figure.Figure at 0x1a1aa917b8>"
      ]
     },
     "metadata": {},
     "output_type": "display_data"
    },
    {
     "data": {
      "image/png": "[encoded data removed]",
      "text/plain": [
       "<matplotlib.figure.Figure at 0x1a10abc438>"
      ]
     },
     "metadata": {},
     "output_type": "display_data"
    }
   ],
   "source": [
    "plot_regressor_accuracy('Lasso',x_axis_charged,acc_lasso_charged,d_lasso_list_charged)\n",
    "plot_regressor_accuracy('Ridge',x_axis_charged,acc_ridge_charged,d_ridge_list_charged)\n",
    "plot_regressor_accuracy('Elastic',x_axis_charged,acc_ela_charged,d_ela_list_charged)"
   ]
  },
  {
   "cell_type": "markdown",
   "metadata": {},
   "source": [
    "# And now let's plot the results for non charged words"
   ]
  },
  {
   "cell_type": "code",
   "execution_count": 122,
   "metadata": {
    "collapsed": false
   },
   "outputs": [
    {
     "name": "stderr",
     "output_type": "stream",
     "text": [
      "//anaconda/lib/python3.5/site-packages/ipykernel/__main__.py:9: SettingWithCopyWarning: \n",
      "A value is trying to be set on a copy of a slice from a DataFrame\n",
      "\n",
      "See the caveats in the documentation: http://pandas.pydata.org/pandas-docs/stable/indexing.html#indexing-view-versus-copy\n",
      "//anaconda/lib/python3.5/site-packages/ipykernel/__main__.py:10: SettingWithCopyWarning: \n",
      "A value is trying to be set on a copy of a slice from a DataFrame\n",
      "\n",
      "See the caveats in the documentation: http://pandas.pydata.org/pandas-docs/stable/indexing.html#indexing-view-versus-copy\n"
     ]
    },
    {
     "name": "stdout",
     "output_type": "stream",
     "text": [
      "0.0% complete\n",
      "7.633587786259542% complete\n",
      "15.267175572519085% complete\n",
      "22.900763358778626% complete\n",
      "30.53435114503817% complete\n",
      "38.16793893129771% complete\n",
      "45.80152671755725% complete\n",
      "53.43511450381679% complete\n",
      "61.06870229007634% complete\n",
      "68.70229007633588% complete\n",
      "76.33587786259542% complete\n",
      "CERTAINLY_AH_5.0.txtwas too small\n",
      "CERTAINLY_ER_3.0.txtwas too small\n",
      "CERTAINLY_ER_4.0.txtwas too small\n",
      "ABSOLUTELY_UW_6.0.txtwas too small\n",
      "CERTAINLY_AH_4.0.txtwas too small\n",
      "EXACTLY_IH_5.0.txtwas too small\n",
      "PARTICULAR_ER_2.0.txtwas too small\n",
      "DIFFERENT_IH_3.0.txtwas too small\n",
      "CERTAINLY_IY_5.0.txtwas too small\n",
      "ABSOLUTELY_IY_2.0.txtwas too small\n",
      "DIFFERENT_ER_4.0.txtwas too small\n",
      "EXACTLY_IY_5.0.txtwas too small\n",
      "ABSOLUTELY_AE_4.0.txtwas too small\n",
      "ABSOLUTELY_UW_1.0.txtwas too small\n",
      "UNDER_AH_5.0.txtwas too small\n",
      "EXACTLY_AE_4.0.txtwas too small\n",
      "SITUATION_EY_1.0.txtwas too small\n",
      "PARTICULAR_AH_1.0.txtwas too small\n",
      "ABSOLUTELY_IY_6.0.txtwas too small\n",
      "ABSOLUTELY_IY_7.0.txtwas too small\n",
      "OTHER_ER_6.0.txtwas too small\n",
      "CERTAINLY_IY_6.0.txtwas too small\n",
      "SPECIFICALLY_IY_2.0.txtwas too small\n",
      "UNDER_ER_6.0.txtwas too small\n",
      "ABSOLUTELY_AH_5.0.txtwas too small\n",
      "OTHER_AH_5.0.txtwas too small\n",
      "EXACTLY_AE_6.0.txtwas too small\n",
      "BECAUSE_AH_1.0.txtwas too small\n",
      "DIFFERENT_AH_4.0.txtwas too small\n",
      "EXACTLY_IH_3.0.txtwas too small\n"
     ]
    },
    {
     "name": "stderr",
     "output_type": "stream",
     "text": [
      "//anaconda/lib/python3.5/site-packages/sklearn/linear_model/coordinate_descent.py:491: ConvergenceWarning: Objective did not converge. You might want to increase the number of iterations. Fitting data with very small alpha may cause precision problems.\n",
      "  ConvergenceWarning)\n"
     ]
    }
   ],
   "source": [
    "acc_lasso,acc_ridge,acc_ela,d_lasso,d_ridge,d_ela,x_axis=accuracy_on_all_files(NON_CHARGED)\n",
    "average_dictionaries(d_lasso,d_ridge,d_ela)\n",
    "d_lasso_list,d_ridge_list,d_ela_list=plot_lists_from_dictionaries(d_lasso,d_ridge,d_ela,x_axis)"
   ]
  },
  {
   "cell_type": "code",
   "execution_count": 140,
   "metadata": {
    "collapsed": false
   },
   "outputs": [
    {
     "data": {
      "image/png": "[encoded data removed]",
      "text/plain": [
       "<matplotlib.figure.Figure at 0x1a1aecde48>"
      ]
     },
     "metadata": {},
     "output_type": "display_data"
    },
    {
     "data": {
      "image/png": "[encoded data removed]",
      "text/plain": [
       "<matplotlib.figure.Figure at 0x1a1aecdeb8>"
      ]
     },
     "metadata": {},
     "output_type": "display_data"
    },
    {
     "data": {
      "image/png": "[encoded data removed]",
      "text/plain": [
       "<matplotlib.figure.Figure at 0x1a19da36d8>"
      ]
     },
     "metadata": {},
     "output_type": "display_data"
    }
   ],
   "source": [
    "plot_regressor_accuracy('Lasso',x_axis,acc_lasso,d_lasso_list)\n",
    "plot_regressor_accuracy('Ridge',x_axis,acc_ridge,d_ridge_list)\n",
    "plot_regressor_accuracy('Elastic',x_axis,acc_ela,d_ela_list)"
   ]
  },
  {
   "cell_type": "markdown",
   "metadata": {},
   "source": [
    "# Let's compare how our regressors perform on average on charged vs non charged words"
   ]
  },
  {
   "cell_type": "code",
   "execution_count": 159,
   "metadata": {
    "collapsed": false
   },
   "outputs": [
    {
     "name": "stdout",
     "output_type": "stream",
     "text": [
      "0.7682830427819192\n",
      "0.7098933998151907\n",
      "0.7339516255826968\n"
     ]
    }
   ],
   "source": [
    "print(np.array(acc_lasso).mean())\n",
    "print(np.array(acc_ridge).mean())\n",
    "print(np.array(acc_ela).mean())"
   ]
  },
  {
   "cell_type": "code",
   "execution_count": 160,
   "metadata": {
    "collapsed": false
   },
   "outputs": [
    {
     "name": "stdout",
     "output_type": "stream",
     "text": [
      "0.8329116074062597\n",
      "0.7830913198506781\n",
      "0.798764269895286\n"
     ]
    }
   ],
   "source": [
    "print(np.array(acc_lasso_charged).mean())\n",
    "print(np.array(acc_ridge_charged).mean())\n",
    "print(np.array(acc_ela_charged).mean())"
   ]
  },
  {
   "cell_type": "markdown",
   "metadata": {},
   "source": [
    "However, we now that the small files do not really reflect the accuracy of our regressors, given how the accuracy oscillates in that area, so we would need to compare the 'asymptotic' accuracy for charged and non charged words"
   ]
  },
  {
   "cell_type": "code",
   "execution_count": 162,
   "metadata": {
    "collapsed": false
   },
   "outputs": [
    {
     "name": "stdout",
     "output_type": "stream",
     "text": [
      "0.8509866747445333\n",
      "0.7905255149958964\n",
      "0.8205240434220458\n"
     ]
    }
   ],
   "source": [
    "print(np.array(acc_lasso[:-20]).mean()) #the small files are appended last to the list, cf. code above\n",
    "print(np.array(acc_ridge[:-20]).mean())\n",
    "print(np.array(acc_ela[:-20]).mean())"
   ]
  },
  {
   "cell_type": "code",
   "execution_count": 163,
   "metadata": {
    "collapsed": false
   },
   "outputs": [
    {
     "name": "stdout",
     "output_type": "stream",
     "text": [
      "0.9105956683113547\n",
      "0.8645190205582362\n",
      "0.879971144686831\n"
     ]
    }
   ],
   "source": [
    "print(np.array(acc_lasso_charged[:-20]).mean())\n",
    "print(np.array(acc_ridge_charged[:-20]).mean())\n",
    "print(np.array(acc_ela_charged[:-20]).mean())"
   ]
  },
  {
   "cell_type": "code",
   "execution_count": 164,
   "metadata": {
    "collapsed": false
   },
   "outputs": [
    {
     "name": "stdout",
     "output_type": "stream",
     "text": [
      "0.9152446008902817\n",
      "0.874577596415316\n",
      "0.9007505057462138\n"
     ]
    }
   ],
   "source": [
    "print(np.array(acc_lasso[:-40]).mean()) #the small files are appended last to the list, cf. code above\n",
    "print(np.array(acc_ridge[:-40]).mean())\n",
    "print(np.array(acc_ela[:-40]).mean())"
   ]
  },
  {
   "cell_type": "code",
   "execution_count": 165,
   "metadata": {
    "collapsed": false
   },
   "outputs": [
    {
     "name": "stdout",
     "output_type": "stream",
     "text": [
      "0.949813478305075\n",
      "0.935810169289161\n",
      "0.9437724241211636\n"
     ]
    }
   ],
   "source": [
    "print(np.array(acc_lasso_charged[:-40]).mean())\n",
    "print(np.array(acc_ridge_charged[:-40]).mean())\n",
    "print(np.array(acc_ela_charged[:-40]).mean())"
   ]
  },
  {
   "cell_type": "code",
   "execution_count": 168,
   "metadata": {
    "collapsed": false
   },
   "outputs": [
    {
     "name": "stdout",
     "output_type": "stream",
     "text": [
      "0.9621056551506717\n",
      "0.9533832981682143\n",
      "0.9576070318102506\n"
     ]
    }
   ],
   "source": [
    "print(np.array(acc_lasso[:-80]).mean()) #the small files are appended last to the list, cf. code above\n",
    "print(np.array(acc_ridge[:-80]).mean())\n",
    "print(np.array(acc_ela[:-80]).mean())"
   ]
  },
  {
   "cell_type": "code",
   "execution_count": 169,
   "metadata": {
    "collapsed": false
   },
   "outputs": [
    {
     "name": "stdout",
     "output_type": "stream",
     "text": [
      "0.9522619929090518\n",
      "0.9378509529686\n",
      "0.9461113657584245\n"
     ]
    }
   ],
   "source": [
    "print(np.array(acc_lasso_charged[:-80]).mean())\n",
    "print(np.array(acc_ridge_charged[:-80]).mean())\n",
    "print(np.array(acc_ela_charged[:-80]).mean())"
   ]
  },
  {
   "cell_type": "markdown",
   "metadata": {},
   "source": [
    "So the results show that asymptotically the performance is similar, however, the ideologically charged words get a faster convergence for the regressors, with smaller datasets and therefore, this confirms that ideologically charged words have more significance and 'betray' the ideology of the speakers."
   ]
  },
  {
   "cell_type": "code",
   "execution_count": null,
   "metadata": {
    "collapsed": true
   },
   "outputs": [],
   "source": []
  }
 ],
 "metadata": {
  "kernelspec": {
   "display_name": "Python 3",
   "language": "python",
   "name": "python3"
  },
  "language_info": {
   "codemirror_mode": {
    "name": "ipython",
    "version": 3
   },
   "file_extension": ".py",
   "mimetype": "text/x-python",
   "name": "python",
   "nbconvert_exporter": "python",
   "pygments_lexer": "ipython3",
   "version": "3.5.4"
  }
 },
 "nbformat": 4,
 "nbformat_minor": 0
}
