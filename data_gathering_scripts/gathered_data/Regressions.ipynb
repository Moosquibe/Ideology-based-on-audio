{
 "cells": [
  {
   "cell_type": "code",
   "execution_count": 1,
   "metadata": {
    "collapsed": true
   },
   "outputs": [],
   "source": [
    "import os\n",
    "import io\n",
    "import operator\n",
    "import pandas as pd\n",
    "import numpy as np\n",
    "from sklearn.linear_model import Lasso, ElasticNet, Ridge\n",
    "from sklearn.model_selection import LeaveOneOut, KFold\n",
    "import matplotlib.pyplot as plt\n",
    "import sklearn.metrics as skm\n",
    "\n",
    "%matplotlib inline\n",
    "\n",
    "\n",
    "\n",
    "CHARGED=\"charged/\"\n",
    "NON_CHARGED=\"non_charged/\""
   ]
  },
  {
   "cell_type": "code",
   "execution_count": 60,
   "metadata": {
    "collapsed": false
   },
   "outputs": [],
   "source": [
    "def file_len(fname):\n",
    "    with open(fname) as f:\n",
    "        for i, l in enumerate(f):\n",
    "            pass\n",
    "    return i + 1\n",
    "\n",
    "def sorted_dictionary(folder):\n",
    "    len_file={}\n",
    "    for filename in os.listdir(folder):\n",
    "        len_file[filename]=file_len(folder+filename)\n",
    "    sorted_len_file=sorted(len_file.items(), key=lambda x: -x[1])\n",
    "    return sorted_len_file"
   ]
  },
  {
   "cell_type": "code",
   "execution_count": 62,
   "metadata": {
    "collapsed": true
   },
   "outputs": [],
   "source": [
    "def create_list(fname):\n",
    "    l=[]\n",
    "    fname=fname\n",
    "    file=open(fname,'r')\n",
    "    file=file.readlines()\n",
    "    for e in file:\n",
    "        e=e.replace(' ','')\n",
    "        e=e[:-1].split(',')\n",
    "        ideology=float(e[0])\n",
    "        count=int(e[1])\n",
    "        freq1=float(e[2])\n",
    "        freq2=float(e[3])\n",
    "        duration=float(e[4])\n",
    "        F11=float(e[5])\n",
    "        F12=float(e[6])\n",
    "        F13=float(e[7])\n",
    "        F21=float(e[8])\n",
    "        F22=float(e[9])\n",
    "        F23=float(e[10])\n",
    "        l.append([ideology,count,freq1,freq2,duration,F11,F12,F13,F21,F22,F23])\n",
    "    return l       "
   ]
  },
  {
   "cell_type": "code",
   "execution_count": 3,
   "metadata": {
    "collapsed": true
   },
   "outputs": [],
   "source": [
    "def create_df(folde):\n",
    "    l_df=create_df(CHARGED+sorted_len_file[4][0])\n",
    "    col=['Ideology','Count','Freq1','Freq2','Duration','F11','F12','F13','F21','F22','F23']\n",
    "    df=pd.DataFrame(l_df)\n",
    "    df.columns=col\n",
    "    y=df['Ideology']\n",
    "    x=df.drop('Ideology',axis=1)\n",
    "    x=df.drop('Count',axis=1)\n",
    "    #x['constant']=np.ones(len(x))"
   ]
  },
  {
   "cell_type": "code",
   "execution_count": 4,
   "metadata": {
    "collapsed": false,
    "scrolled": true
   },
   "outputs": [],
   "source": []
  },
  {
   "cell_type": "code",
   "execution_count": null,
   "metadata": {
    "collapsed": false
   },
   "outputs": [],
   "source": []
  },
  {
   "cell_type": "code",
   "execution_count": 5,
   "metadata": {
    "collapsed": false
   },
   "outputs": [],
   "source": [
    "l_df=create_df(CHARGED+sorted_len_file[4][0])\n",
    "col=['Ideology','Count','Freq1','Freq2','Duration','F11','F12','F13','F21','F22','F23']\n",
    "df=pd.DataFrame(l_df)\n",
    "df.columns=col\n",
    "y=df['Ideology']\n",
    "x=df.drop('Ideology',axis=1)\n",
    "x=df.drop('Count',axis=1)\n",
    "#x['constant']=np.ones(len(x))"
   ]
  },
  {
   "cell_type": "code",
   "execution_count": 6,
   "metadata": {
    "collapsed": false
   },
   "outputs": [
    {
     "name": "stderr",
     "output_type": "stream",
     "text": [
      "//anaconda/lib/python3.5/site-packages/ipykernel/__main__.py:2: SettingWithCopyWarning: \n",
      "A value is trying to be set on a copy of a slice from a DataFrame\n",
      "\n",
      "See the caveats in the documentation: http://pandas.pydata.org/pandas-docs/stable/indexing.html#indexing-view-versus-copy\n",
      "  from ipykernel import kernelapp as app\n",
      "//anaconda/lib/python3.5/site-packages/ipykernel/__main__.py:3: SettingWithCopyWarning: \n",
      "A value is trying to be set on a copy of a slice from a DataFrame\n",
      "\n",
      "See the caveats in the documentation: http://pandas.pydata.org/pandas-docs/stable/indexing.html#indexing-view-versus-copy\n",
      "  app.launch_new_instance()\n"
     ]
    }
   ],
   "source": [
    "loo=LeaveOneOut()\n",
    "y[y>0.5]=1\n",
    "y[y<0.5]=0"
   ]
  },
  {
   "cell_type": "code",
   "execution_count": 7,
   "metadata": {
    "collapsed": false
   },
   "outputs": [],
   "source": [
    "lambdas=np.arange(1e-3,4e-2,1e-3)\n",
    "def Lasso_ridge_elastic(x,y,lambdas,split_size=20):\n",
    "    if split_size>len(y):\n",
    "        if len(y)>1:\n",
    "            split_size=len(y)\n",
    "        else:\n",
    "            return -1\n",
    "    scores=[]\n",
    "    kf=KFold(n_splits=split_size)\n",
    "    for train_index, test_index in kf.split(x):\n",
    "        history=[]\n",
    "        X_train, X_test = x.T[train_index].T, x.T[test_index].T\n",
    "        y_train, y_test = y.T[train_index].T, y.T[test_index].T\n",
    "        for i in range(len(lambdas)):\n",
    "            l=lambdas[i]\n",
    "            lr=Ridge(alpha=l,normalize=True)\n",
    "            lr.fit(X_train,y_train)\n",
    "            score=lr.score(X_test,y_test)\n",
    "            history.append(score)\n",
    "        scores.append(history)\n",
    "\n",
    "    s_ridge=np.zeros(len(lambdas))\n",
    "    for e in scores:\n",
    "        for i in range(len(e)):\n",
    "            s_ridge[i]+=e[i]/len(scores)\n",
    "\n",
    "    scores=[]\n",
    "    for train_index, test_index in kf.split(x):\n",
    "        history=[]\n",
    "        X_train, X_test = x.T[train_index].T, x.T[test_index].T\n",
    "        y_train, y_test = y.T[train_index].T, y.T[test_index].T\n",
    "        for i in range(len(lambdas)):\n",
    "            l=lambdas[i]\n",
    "            lr=Lasso(alpha=l,normalize=True)\n",
    "            lr.fit(X_train,y_train)\n",
    "            score=lr.score(X_test,y_test)\n",
    "            history.append(score)\n",
    "        scores.append(history)\n",
    "\n",
    "    s_lasso=np.zeros(len(lambdas))\n",
    "    for e in scores:\n",
    "        for i in range(len(e)):\n",
    "            s_lasso[i]+=e[i]/len(scores)\n",
    "\n",
    "    scores=[]\n",
    "    for train_index, test_index in kf.split(x):\n",
    "        history=[]\n",
    "        X_train, X_test = x.T[train_index].T, x.T[test_index].T\n",
    "        y_train, y_test = y.T[train_index].T, y.T[test_index].T\n",
    "        for i in range(len(lambdas)):\n",
    "            l=lambdas[i]\n",
    "            lr=ElasticNet(alpha=l,normalize=True)\n",
    "            lr.fit(X_train,y_train)\n",
    "            score=lr.score(X_test,y_test)\n",
    "            history.append(score)\n",
    "        scores.append(history)\n",
    "\n",
    "    s_elastic=np.zeros(len(lambdas))\n",
    "    for e in scores:\n",
    "        for i in range(len(e)):\n",
    "            s_elastic[i]+=e[i]/len(scores)\n",
    "    return s_lasso, s_ridge, s_elastic"
   ]
  },
  {
   "cell_type": "code",
   "execution_count": 8,
   "metadata": {
    "collapsed": false
   },
   "outputs": [],
   "source": [
    "s_lasso, s_ridge, s_elastic=Lasso_ridge_elastic(x,y,lambdas,20)"
   ]
  },
  {
   "cell_type": "code",
   "execution_count": 9,
   "metadata": {
    "collapsed": false
   },
   "outputs": [
    {
     "data": {
      "text/plain": [
       "<matplotlib.legend.Legend at 0x1a115601d0>"
      ]
     },
     "execution_count": 9,
     "metadata": {},
     "output_type": "execute_result"
    },
    {
     "data": {
      "image/png": "[encoded data removed]",
      "text/plain": [
       "<matplotlib.figure.Figure at 0x1a114b45c0>"
      ]
     },
     "metadata": {},
     "output_type": "display_data"
    }
   ],
   "source": [
    "fig = plt.figure(figsize = (12, 6))\n",
    "ax = plt.subplot(111)\n",
    "plt.plot(lambdas,s_ridge,label='Ridge regression')\n",
    "plt.plot(lambdas,s_lasso,label='Lasso Regression')\n",
    "plt.plot(lambdas,s_elastic,label='Elastic net')\n",
    "plt.xlabel('Regularization strength (\\lambda)')\n",
    "plt.ylabel('Score')\n",
    "plt.title('Evolution of score with regularization strength')\n",
    "box = ax.get_position()\n",
    "ax.set_position([box.x0, box.y0 + box.height * 0.0 , box.width, box.height * 1])\n",
    "ax.legend(loc = 'upper center', bbox_to_anchor = (0.5, -0.15), fancybox = True, \n",
    "              shadow = True, ncol = 4, prop = {'size':10})\n",
    "\n"
   ]
  },
  {
   "cell_type": "code",
   "execution_count": 10,
   "metadata": {
    "collapsed": false
   },
   "outputs": [],
   "source": [
    "lambda_lasso=lambdas[list(s_lasso).index(max(s_lasso))]\n",
    "lambda_ridge=lambdas[list(s_ridge).index(max(s_ridge))]\n",
    "lambda_elastic=lambdas[list(s_elastic).index(max(s_elastic))]\n",
    "def optimal_lambda(s_lasso,s_ridge,s_elastic):\n",
    "    lambda_lasso=lambdas[list(s_lasso).index(max(s_lasso))]\n",
    "    lambda_ridge=lambdas[list(s_ridge).index(max(s_ridge))]\n",
    "    lambda_elastic=lambdas[list(s_elastic).index(max(s_elastic))]\n",
    "    return lambda_lasso,lambda_ridge,lambda_elastic"
   ]
  },
  {
   "cell_type": "code",
   "execution_count": 11,
   "metadata": {
    "collapsed": false
   },
   "outputs": [
    {
     "name": "stdout",
     "output_type": "stream",
     "text": [
      "The lambdas we will choose are \n",
      " lambda_lasso=0.004\n",
      " lambda_ridge=0.001\n",
      " lambda_elastic=0.002\n"
     ]
    }
   ],
   "source": [
    "print('The lambdas we will choose are \\n lambda_lasso='+str(lambda_lasso)+'\\n lambda_ridge='+str(lambda_ridge)+'\\n lambda_elastic='+str(lambda_elastic))"
   ]
  },
  {
   "cell_type": "code",
   "execution_count": 12,
   "metadata": {
    "collapsed": false
   },
   "outputs": [],
   "source": [
    "def AUC_regressor(type_of_regressor,x,y,lambda_lasso=lambda_lasso,lambda_ridge=lambda_ridge,lamda_elastic=lambda_elastic,split_size=10):\n",
    "    if split_size>len(y):\n",
    "        if len(y)>1:\n",
    "            split_size=len(y)\n",
    "        else:\n",
    "            return -1\n",
    "    fig = plt.figure(figsize = (12, 6))\n",
    "    ax = plt.subplot(111)\n",
    "    kf=KFold(n_splits=split_size)\n",
    "    for train_index, test_index in kf.split(x):\n",
    "        history=[]\n",
    "        X_train, X_test = x.T[train_index].T, x.T[test_index].T\n",
    "        y_train, y_test = y.T[train_index].T, y.T[test_index].T\n",
    "        if type_of_regressor=='Ridge':\n",
    "            lr=Ridge(alpha=lambda_ridge,normalize=True)\n",
    "        elif type_of_regressor=='Lasso':\n",
    "            lr=Lasso(alpha=lambda_lasso,normalize=True)\n",
    "        else:\n",
    "            lr=ElasticNet(alpha=lambda_elastic,normalize=True)\n",
    "        lr.fit(X_train,y_train)\n",
    "        y_predict=lr.predict(X_test)\n",
    "        y_predict[y_predict>0.5]=1\n",
    "        y_predict[y_predict<0.5]=0\n",
    "        y_predict=y_predict.astype(int)\n",
    "        y_test=y_test.astype(int)\n",
    "        fpr, tpr, thresholds =skm.roc_curve(y_test,y_predict)\n",
    "        roc_auc = skm.auc(fpr, tpr)\n",
    "        print(roc_auc)\n",
    "        plt.plot(fpr,tpr, label = 'Lasso regression' + ' (AUC = %0.3f)' % roc_auc)\n",
    "        plt.xlabel('FPR')\n",
    "        plt.ylabel('TPR')\n",
    "        plt.title('ROC')\n",
    "        box = ax.get_position()\n",
    "        ax.set_position([box.x0, box.y0 + box.height * 0.0 , box.width, box.height * 1])\n",
    "        ax.legend(loc = 'upper center', bbox_to_anchor = (0.5, -0.15), fancybox = True, \n",
    "                      shadow = True, ncol = 4, prop = {'size':10})\n",
    "\n",
    "\n"
   ]
  },
  {
   "cell_type": "code",
   "execution_count": 13,
   "metadata": {
    "collapsed": false
   },
   "outputs": [],
   "source": [
    "def Accuracy_regressor(type_of_regressor,x,y,lambda_lasso=lambda_lasso,split_size=10):\n",
    "    if split_size>len(y):\n",
    "        if len(y)>1:\n",
    "            split_size=len(y)\n",
    "        else:\n",
    "            return -1\n",
    "        split_size=len(y)\n",
    "    kf=KFold(n_splits=split_size)\n",
    "    accuracy=0\n",
    "    for train_index, test_index in kf.split(x):\n",
    "        history=[]\n",
    "        X_train, X_test = x.T[train_index].T, x.T[test_index].T\n",
    "        y_train, y_test = y.T[train_index].T, y.T[test_index].T\n",
    "        if type_of_regressor=='Ridge':\n",
    "            lr=Ridge(alpha=lambda_ridge,normalize=True)\n",
    "        elif type_of_regressor=='Lasso':\n",
    "            lr=Lasso(alpha=lambda_lasso,normalize=True)\n",
    "        else:\n",
    "            lr=ElasticNet(alpha=lambda_elastic,normalize=True)\n",
    "        lr.fit(X_train,y_train)\n",
    "        y_predict=lr.predict(X_test)\n",
    "        y_predict[y_predict>0.5]=1\n",
    "        y_predict[y_predict<0.5]=0\n",
    "        y_predict=list(y_predict)\n",
    "        y_test=list(y_test)\n",
    "        acc=0\n",
    "        for i in range(len(y_test)):\n",
    "            if y_test[i]==y_predict[i]:\n",
    "                acc+=1\n",
    "        accuracy+=acc/len(y_predict)\n",
    "    return accuracy/split_size\n",
    "\n"
   ]
  },
  {
   "cell_type": "code",
   "execution_count": 14,
   "metadata": {
    "collapsed": false
   },
   "outputs": [],
   "source": [
    "acc_lasso=[]\n",
    "acc_ridge=[]\n",
    "acc_ela=[]\n",
    "for k in range(2,20,1):\n",
    "    lasso=Accuracy_regressor('Lasso',x,y,split_size=k)\n",
    "    ridge=Accuracy_regressor('Ridge',x,y,split_size=k)\n",
    "    ela=Accuracy_regressor('Elastic',x,y,split_size=k)\n",
    "    acc_lasso.append(lasso)\n",
    "    acc_ridge.append(ridge)\n",
    "    acc_ela.append(ela)\n"
   ]
  },
  {
   "cell_type": "code",
   "execution_count": 15,
   "metadata": {
    "collapsed": false
   },
   "outputs": [
    {
     "data": {
      "text/plain": [
       "[<matplotlib.lines.Line2D at 0x1a116025c0>]"
      ]
     },
     "execution_count": 15,
     "metadata": {},
     "output_type": "execute_result"
    },
    {
     "data": {
      "image/png": "[encoded data removed]",
      "text/plain": [
       "<matplotlib.figure.Figure at 0x1a114b4240>"
      ]
     },
     "metadata": {},
     "output_type": "display_data"
    }
   ],
   "source": [
    "plt.plot(acc_lasso)"
   ]
  },
  {
   "cell_type": "code",
   "execution_count": 43,
   "metadata": {
    "collapsed": false
   },
   "outputs": [],
   "source": [
    "lambdas=np.arange(1e-3,4e-2,1e-3)\n",
    "def accuracy_on_all_files(folder):\n",
    "    acc_lasso=[]\n",
    "    acc_ridge=[]\n",
    "    acc_ela=[]\n",
    "    x_axis=[]\n",
    "    k=0\n",
    "    d_lasso={}\n",
    "    d_ridge={}\n",
    "    d_ela={}\n",
    "    for file in sorted_len_file:\n",
    "        d_lasso[file_len(folder+file[0])]=[]\n",
    "        d_ridge[file_len(folder+file[0])]=[]\n",
    "        d_ela[file_len(folder+file[0])]=[]\n",
    "    for file in sorted_len_file:\n",
    "        if k%10==0:\n",
    "            print(str(100*k/len(sorted_len_file))+\"% complete\")\n",
    "        n=file_len(folder+file[0])\n",
    "        if n<2:\n",
    "            print(file[0]+\"was too small\")\n",
    "        else:\n",
    "            x_axis.append(file[0])\n",
    "            df=create_df(folder+file[0])\n",
    "            col=['Ideology','Count','Freq1','Freq2','Duration','F11','F12','F13','F21','F22','F23']\n",
    "            df=pd.DataFrame(df)\n",
    "            df.columns=col\n",
    "            y=df['Ideology']\n",
    "            x=df.drop('Ideology',axis=1)\n",
    "            x=df.drop('Count',axis=1)\n",
    "            y[y>0.5]=1\n",
    "            y[y<0.5]=0\n",
    "            s_lasso, s_ridge, s_elastic=Lasso_ridge_elastic(x,y,lambdas,4)\n",
    "            lambda_lasso,lambda_ridge,lambda_elastic=optimal_lambda(s_lasso, s_ridge, s_elastic)\n",
    "            lasso=Accuracy_regressor('Lasso',x,y,split_size=4)\n",
    "            ridge=Accuracy_regressor('Ridge',x,y,split_size=4)\n",
    "            ela=Accuracy_regressor('Elastic',x,y,split_size=4)\n",
    "            acc_lasso.append(lasso)\n",
    "            acc_ridge.append(ridge)\n",
    "            acc_ela.append(ela)\n",
    "            d_lasso[n].append(lasso)\n",
    "            d_ridge[n].append(ridge)\n",
    "            d_ela[n].append(ela)\n",
    "            k+=1\n",
    "    return acc_lasso,acc_ridge,acc_ela,d_lasso,d_ridge,d_ela,x_axis"
   ]
  },
  {
   "cell_type": "code",
   "execution_count": 44,
   "metadata": {
    "collapsed": false
   },
   "outputs": [
    {
     "name": "stderr",
     "output_type": "stream",
     "text": [
      "//anaconda/lib/python3.5/site-packages/ipykernel/__main__.py:30: SettingWithCopyWarning: \n",
      "A value is trying to be set on a copy of a slice from a DataFrame\n",
      "\n",
      "See the caveats in the documentation: http://pandas.pydata.org/pandas-docs/stable/indexing.html#indexing-view-versus-copy\n",
      "//anaconda/lib/python3.5/site-packages/ipykernel/__main__.py:31: SettingWithCopyWarning: \n",
      "A value is trying to be set on a copy of a slice from a DataFrame\n",
      "\n",
      "See the caveats in the documentation: http://pandas.pydata.org/pandas-docs/stable/indexing.html#indexing-view-versus-copy\n"
     ]
    },
    {
     "name": "stdout",
     "output_type": "stream",
     "text": [
      "0.0% complete\n",
      "6.944444444444445% complete\n",
      "13.88888888888889% complete\n",
      "20.833333333333332% complete\n",
      "27.77777777777778% complete\n",
      "34.72222222222222% complete\n",
      "41.666666666666664% complete\n",
      "48.611111111111114% complete\n",
      "55.55555555555556% complete\n",
      "62.5% complete\n",
      "69.44444444444444% complete\n",
      "76.38888888888889% complete\n",
      "LEGISLATIVE_EY_7.0.txtwas too small\n",
      "76.38888888888889% complete\n",
      "CONGRESS_AA_2.0.txtwas too small\n",
      "76.38888888888889% complete\n",
      "CONSTITUTION_AH_3.0.txtwas too small\n",
      "76.38888888888889% complete\n",
      "LEGISLATURE_EY_2.0.txtwas too small\n",
      "76.38888888888889% complete\n",
      "LEGISLATIVE_AH_6.0.txtwas too small\n",
      "76.38888888888889% complete\n",
      "LEGISLATIVE_EH_5.0.txtwas too small\n",
      "76.38888888888889% complete\n",
      "POLICY_IY_6.0.txtwas too small\n",
      "76.38888888888889% complete\n",
      "PEOPLE_AH_3.0.txtwas too small\n",
      "76.38888888888889% complete\n",
      "POLICY_IY_2.0.txtwas too small\n",
      "76.38888888888889% complete\n",
      "GINSBURG_IH_3.0.txtwas too small\n",
      "76.38888888888889% complete\n",
      "FEDERAL_ER_4.0.txtwas too small\n",
      "76.38888888888889% complete\n",
      "KENNEDY_IY_6.0.txtwas too small\n",
      "76.38888888888889% complete\n",
      "GOVERNMENT_ER_5.0.txtwas too small\n",
      "76.38888888888889% complete\n",
      "MR_IH_2.0.txtwas too small\n",
      "76.38888888888889% complete\n",
      "HONOR_ER_4.0.txtwas too small\n",
      "76.38888888888889% complete\n",
      "CONSTITUTIONAL_UW_2.0.txtwas too small\n",
      "76.38888888888889% complete\n",
      "GOVERNMENT_AH_4.0.txtwas too small\n",
      "76.38888888888889% complete\n",
      "POLICY_AH_1.0.txtwas too small\n",
      "76.38888888888889% complete\n",
      "CONSTITUTION_AH_1.0.txtwas too small\n",
      "76.38888888888889% complete\n",
      "PEOPLE_IY_2.0.txtwas too small\n",
      "76.38888888888889% complete\n",
      "POLICY_AA_4.0.txtwas too small\n",
      "76.38888888888889% complete\n",
      "HONOR_ER_3.0.txtwas too small\n",
      "76.38888888888889% complete\n",
      "CONSTITUTIONAL_AH_3.0.txtwas too small\n",
      "76.38888888888889% complete\n",
      "KENNEDY_EH_4.0.txtwas too small\n",
      "76.38888888888889% complete\n",
      "AUTHORITY_IY_2.0.txtwas too small\n",
      "76.38888888888889% complete\n",
      "HONOR_AA_3.0.txtwas too small\n",
      "76.38888888888889% complete\n",
      "POLICY_AH_5.0.txtwas too small\n",
      "76.38888888888889% complete\n",
      "LEGISLATIVE_IH_8.0.txtwas too small\n",
      "76.38888888888889% complete\n",
      "LEGISLATURE_AH_1.0.txtwas too small\n",
      "76.38888888888889% complete\n",
      "KENNEDY_AH_5.0.txtwas too small\n",
      "76.38888888888889% complete\n",
      "CONSTITUTION_UW_2.0.txtwas too small\n",
      "76.38888888888889% complete\n",
      "CALIFORNIA_AH_1.0.txtwas too small\n",
      "76.38888888888889% complete\n",
      "GOVERNMENT_AH_6.0.txtwas too small\n",
      "76.38888888888889% complete\n",
      "GINSBURG_ER_4.0.txtwas too small\n"
     ]
    },
    {
     "name": "stderr",
     "output_type": "stream",
     "text": [
      "//anaconda/lib/python3.5/site-packages/sklearn/linear_model/coordinate_descent.py:491: ConvergenceWarning: Objective did not converge. You might want to increase the number of iterations. Fitting data with very small alpha may cause precision problems.\n",
      "  ConvergenceWarning)\n"
     ]
    }
   ],
   "source": [
    "acc_lasso,acc_ridge,acc_ela,d_lasso,d_ridge,d_ela,x_axis=accuracy_on_all_files(CHARGED)"
   ]
  },
  {
   "cell_type": "code",
   "execution_count": 45,
   "metadata": {
    "collapsed": false
   },
   "outputs": [],
   "source": [
    "length=[]\n",
    "for i in range(len(x_axis)):\n",
    "    name=x_axis[i]\n",
    "    length.append(file_len(CHARGED+name))\n"
   ]
  },
  {
   "cell_type": "code",
   "execution_count": null,
   "metadata": {
    "collapsed": false
   },
   "outputs": [],
   "source": []
  },
  {
   "cell_type": "code",
   "execution_count": null,
   "metadata": {
    "collapsed": false
   },
   "outputs": [],
   "source": []
  },
  {
   "cell_type": "code",
   "execution_count": null,
   "metadata": {
    "collapsed": false
   },
   "outputs": [],
   "source": []
  },
  {
   "cell_type": "code",
   "execution_count": 46,
   "metadata": {
    "collapsed": false
   },
   "outputs": [],
   "source": [
    "for key in d_lasso:\n",
    "    try:\n",
    "        d_lasso[key]=sum(d_lasso[key])/len(d_lasso[key])\n",
    "    except ZeroDivisionError:\n",
    "        d_lasso[key]=0\n",
    "for key in d_ridge:\n",
    "    try:\n",
    "        d_ridge[key]=sum(d_ridge[key])/len(d_ridge[key])\n",
    "    except ZeroDivisionError:\n",
    "        d_ridge[key]=0\n",
    "for key in d_ela:\n",
    "    try:\n",
    "        d_ela[key]=sum(d_ela[key])/len(d_ela[key])\n",
    "    except ZeroDivisionError:\n",
    "        d_ela[key]=0\n",
    "\n",
    "\n"
   ]
  },
  {
   "cell_type": "code",
   "execution_count": 47,
   "metadata": {
    "collapsed": false
   },
   "outputs": [],
   "source": [
    "d_lasso_list=[]\n",
    "for p in length:\n",
    "    d_lasso_list.append(d_lasso[p])"
   ]
  },
  {
   "cell_type": "code",
   "execution_count": 48,
   "metadata": {
    "collapsed": false
   },
   "outputs": [
    {
     "data": {
      "text/plain": [
       "<matplotlib.legend.Legend at 0x10880f208>"
      ]
     },
     "execution_count": 48,
     "metadata": {},
     "output_type": "execute_result"
    },
    {
     "data": {
      "image/png": "[encoded data removed]",
      "text/plain": [
       "<matplotlib.figure.Figure at 0x108832400>"
      ]
     },
     "metadata": {},
     "output_type": "display_data"
    }
   ],
   "source": [
    "fig = plt.figure(figsize = (12, 6))\n",
    "ax = plt.subplot(111)\n",
    "plt.scatter(length,acc_lasso,label='Accuracy of Lasso regression')\n",
    "plt.plot(length,d_lasso_list,color='r',label='Average performance')\n",
    "plt.xlabel('Size of file')\n",
    "plt.ylabel('Accuracy')\n",
    "plt.title('Evolution of accuracy with the size of the file')\n",
    "box = ax.get_position()\n",
    "ax.set_position([box.x0, box.y0 + box.height * 0.0 , box.width, box.height * 1])\n",
    "ax.legend(loc = 'upper center', bbox_to_anchor = (0.5, -0.15), fancybox = True, \n",
    "              shadow = True, ncol = 4, prop = {'size':10})"
   ]
  },
  {
   "cell_type": "code",
   "execution_count": 49,
   "metadata": {
    "collapsed": false
   },
   "outputs": [],
   "source": [
    "d_ridge_list=[]\n",
    "for p in length:\n",
    "    d_ridge_list.append(d_ridge[p])"
   ]
  },
  {
   "cell_type": "code",
   "execution_count": 50,
   "metadata": {
    "collapsed": false
   },
   "outputs": [
    {
     "data": {
      "text/plain": [
       "<matplotlib.legend.Legend at 0x108854908>"
      ]
     },
     "execution_count": 50,
     "metadata": {},
     "output_type": "execute_result"
    },
    {
     "data": {
      "image/png": "[encoded data removed]",
      "text/plain": [
       "<matplotlib.figure.Figure at 0x1087cf7f0>"
      ]
     },
     "metadata": {},
     "output_type": "display_data"
    }
   ],
   "source": [
    "fig = plt.figure(figsize = (12, 6))\n",
    "ax = plt.subplot(111)\n",
    "plt.scatter(length,acc_ridge,label='Accuracy of Ridge regression')\n",
    "plt.plot(length,d_ridge_list,color='r',label='Average performance')\n",
    "plt.xlabel('Size of file')\n",
    "plt.ylabel('Accuracy')\n",
    "plt.title('Evolution of accuracy with the size of the file')\n",
    "box = ax.get_position()\n",
    "ax.set_position([box.x0, box.y0 + box.height * 0.0 , box.width, box.height * 1])\n",
    "ax.legend(loc = 'upper center', bbox_to_anchor = (0.5, -0.15), fancybox = True, \n",
    "              shadow = True, ncol = 4, prop = {'size':10})"
   ]
  },
  {
   "cell_type": "code",
   "execution_count": 51,
   "metadata": {
    "collapsed": false
   },
   "outputs": [
    {
     "data": {
      "text/plain": [
       "<matplotlib.legend.Legend at 0x1095bef60>"
      ]
     },
     "execution_count": 51,
     "metadata": {},
     "output_type": "execute_result"
    },
    {
     "data": {
      "image/png": "[encoded data removed]",
      "text/plain": [
       "<matplotlib.figure.Figure at 0x1087f92e8>"
      ]
     },
     "metadata": {},
     "output_type": "display_data"
    }
   ],
   "source": [
    "d_ela_list=[]\n",
    "for p in length:\n",
    "    d_ela_list.append(d_ela[p])\n",
    "fig = plt.figure(figsize = (12, 6))\n",
    "ax = plt.subplot(111)\n",
    "plt.scatter(length,acc_ela,label='Accuracy of Elastic regression')\n",
    "plt.plot(length,d_ela_list,color='r',label='Average performance')\n",
    "plt.xlabel('Size of file')\n",
    "plt.ylabel('Accuracy')\n",
    "plt.title('Evolution of accuracy with the size of the file')\n",
    "box = ax.get_position()\n",
    "ax.set_position([box.x0, box.y0 + box.height * 0.0 , box.width, box.height * 1])\n",
    "ax.legend(loc = 'upper center', bbox_to_anchor = (0.5, -0.15), fancybox = True, \n",
    "              shadow = True, ncol = 4, prop = {'size':10})\n",
    "\n",
    "\n",
    "\n"
   ]
  },
  {
   "cell_type": "code",
   "execution_count": 54,
   "metadata": {
    "collapsed": false
   },
   "outputs": [],
   "source": [
    "for filename in os.listdir(NON_CHARGED):\n",
    "    len_file[filename]=file_len(NON_CHARGED+filename)\n",
    "sorted_len_file=sorted(len_file.items(), key=lambda x: -x[1])\n"
   ]
  },
  {
   "cell_type": "code",
   "execution_count": 55,
   "metadata": {
    "collapsed": false
   },
   "outputs": [
    {
     "ename": "FileNotFoundError",
     "evalue": "[Errno 2] No such file or directory: 'non_charged/MR_IH_1.0.txt'",
     "output_type": "error",
     "traceback": [
      "\u001b[0;31m---------------------------------------------------------------------------\u001b[0m",
      "\u001b[0;31mFileNotFoundError\u001b[0m                         Traceback (most recent call last)",
      "\u001b[0;32m<ipython-input-55-4f1d4f541d71>\u001b[0m in \u001b[0;36m<module>\u001b[0;34m()\u001b[0m\n\u001b[0;32m----> 1\u001b[0;31m \u001b[0macc_lasso\u001b[0m\u001b[0;34m,\u001b[0m\u001b[0macc_ridge\u001b[0m\u001b[0;34m,\u001b[0m\u001b[0macc_ela\u001b[0m\u001b[0;34m,\u001b[0m\u001b[0md_lasso\u001b[0m\u001b[0;34m,\u001b[0m\u001b[0md_ridge\u001b[0m\u001b[0;34m,\u001b[0m\u001b[0md_ela\u001b[0m\u001b[0;34m,\u001b[0m\u001b[0mx_axis\u001b[0m\u001b[0;34m=\u001b[0m\u001b[0maccuracy_on_all_files\u001b[0m\u001b[0;34m(\u001b[0m\u001b[0mNON_CHARGED\u001b[0m\u001b[0;34m)\u001b[0m\u001b[0;34m\u001b[0m\u001b[0m\n\u001b[0m",
      "\u001b[0;32m<ipython-input-43-f5b5e6777142>\u001b[0m in \u001b[0;36maccuracy_on_all_files\u001b[0;34m(folder)\u001b[0m\n\u001b[1;32m     10\u001b[0m     \u001b[0md_ela\u001b[0m\u001b[0;34m=\u001b[0m\u001b[0;34m{\u001b[0m\u001b[0;34m}\u001b[0m\u001b[0;34m\u001b[0m\u001b[0m\n\u001b[1;32m     11\u001b[0m     \u001b[0;32mfor\u001b[0m \u001b[0mfile\u001b[0m \u001b[0;32min\u001b[0m \u001b[0msorted_len_file\u001b[0m\u001b[0;34m:\u001b[0m\u001b[0;34m\u001b[0m\u001b[0m\n\u001b[0;32m---> 12\u001b[0;31m         \u001b[0md_lasso\u001b[0m\u001b[0;34m[\u001b[0m\u001b[0mfile_len\u001b[0m\u001b[0;34m(\u001b[0m\u001b[0mfolder\u001b[0m\u001b[0;34m+\u001b[0m\u001b[0mfile\u001b[0m\u001b[0;34m[\u001b[0m\u001b[0;36m0\u001b[0m\u001b[0;34m]\u001b[0m\u001b[0;34m)\u001b[0m\u001b[0;34m]\u001b[0m\u001b[0;34m=\u001b[0m\u001b[0;34m[\u001b[0m\u001b[0;34m]\u001b[0m\u001b[0;34m\u001b[0m\u001b[0m\n\u001b[0m\u001b[1;32m     13\u001b[0m         \u001b[0md_ridge\u001b[0m\u001b[0;34m[\u001b[0m\u001b[0mfile_len\u001b[0m\u001b[0;34m(\u001b[0m\u001b[0mfolder\u001b[0m\u001b[0;34m+\u001b[0m\u001b[0mfile\u001b[0m\u001b[0;34m[\u001b[0m\u001b[0;36m0\u001b[0m\u001b[0;34m]\u001b[0m\u001b[0;34m)\u001b[0m\u001b[0;34m]\u001b[0m\u001b[0;34m=\u001b[0m\u001b[0;34m[\u001b[0m\u001b[0;34m]\u001b[0m\u001b[0;34m\u001b[0m\u001b[0m\n\u001b[1;32m     14\u001b[0m         \u001b[0md_ela\u001b[0m\u001b[0;34m[\u001b[0m\u001b[0mfile_len\u001b[0m\u001b[0;34m(\u001b[0m\u001b[0mfolder\u001b[0m\u001b[0;34m+\u001b[0m\u001b[0mfile\u001b[0m\u001b[0;34m[\u001b[0m\u001b[0;36m0\u001b[0m\u001b[0;34m]\u001b[0m\u001b[0;34m)\u001b[0m\u001b[0;34m]\u001b[0m\u001b[0;34m=\u001b[0m\u001b[0;34m[\u001b[0m\u001b[0;34m]\u001b[0m\u001b[0;34m\u001b[0m\u001b[0m\n",
      "\u001b[0;32m<ipython-input-2-db32a847751f>\u001b[0m in \u001b[0;36mfile_len\u001b[0;34m(fname)\u001b[0m\n\u001b[1;32m      1\u001b[0m \u001b[0;32mdef\u001b[0m \u001b[0mfile_len\u001b[0m\u001b[0;34m(\u001b[0m\u001b[0mfname\u001b[0m\u001b[0;34m)\u001b[0m\u001b[0;34m:\u001b[0m\u001b[0;34m\u001b[0m\u001b[0m\n\u001b[0;32m----> 2\u001b[0;31m     \u001b[0;32mwith\u001b[0m \u001b[0mopen\u001b[0m\u001b[0;34m(\u001b[0m\u001b[0mfname\u001b[0m\u001b[0;34m)\u001b[0m \u001b[0;32mas\u001b[0m \u001b[0mf\u001b[0m\u001b[0;34m:\u001b[0m\u001b[0;34m\u001b[0m\u001b[0m\n\u001b[0m\u001b[1;32m      3\u001b[0m         \u001b[0;32mfor\u001b[0m \u001b[0mi\u001b[0m\u001b[0;34m,\u001b[0m \u001b[0ml\u001b[0m \u001b[0;32min\u001b[0m \u001b[0menumerate\u001b[0m\u001b[0;34m(\u001b[0m\u001b[0mf\u001b[0m\u001b[0;34m)\u001b[0m\u001b[0;34m:\u001b[0m\u001b[0;34m\u001b[0m\u001b[0m\n\u001b[1;32m      4\u001b[0m             \u001b[0;32mpass\u001b[0m\u001b[0;34m\u001b[0m\u001b[0m\n\u001b[1;32m      5\u001b[0m     \u001b[0;32mreturn\u001b[0m \u001b[0mi\u001b[0m \u001b[0;34m+\u001b[0m \u001b[0;36m1\u001b[0m\u001b[0;34m\u001b[0m\u001b[0m\n",
      "\u001b[0;31mFileNotFoundError\u001b[0m: [Errno 2] No such file or directory: 'non_charged/MR_IH_1.0.txt'"
     ]
    }
   ],
   "source": [
    "acc_lasso,acc_ridge,acc_ela,d_lasso,d_ridge,d_ela,x_axis=accuracy_on_all_files(NON_CHARGED)"
   ]
  },
  {
   "cell_type": "code",
   "execution_count": null,
   "metadata": {
    "collapsed": false
   },
   "outputs": [],
   "source": [
    "length=[]\n",
    "for i in range(len(x_axis)):\n",
    "    name=x_axis[i]\n",
    "    length.append(file_len(NON_CHARGED+name))\n",
    "for key in d_lasso:\n",
    "    try:\n",
    "        d_lasso[key]=sum(d_lasso[key])/len(d_lasso[key])\n",
    "    except ZeroDivisionError:\n",
    "        d_lasso[key]=0\n",
    "for key in d_ridge:\n",
    "    try:\n",
    "        d_ridge[key]=sum(d_ridge[key])/len(d_ridge[key])\n",
    "    except ZeroDivisionError:\n",
    "        d_ridge[key]=0\n",
    "for key in d_ela:\n",
    "    try:\n",
    "        d_ela[key]=sum(d_ela[key])/len(d_ela[key])\n",
    "    except ZeroDivisionError:\n",
    "        d_ela[key]=0\n",
    "d_lasso_list=[]\n",
    "for p in length:\n",
    "    d_lasso_list.append(d_lasso[p])\n",
    "\n",
    "fig = plt.figure(figsize = (12, 6))\n",
    "ax = plt.subplot(111)\n",
    "plt.scatter(length,acc_lasso,label='Accuracy of Lasso regression')\n",
    "plt.plot(length,d_lasso_list,color='r',label='Average performance')\n",
    "plt.xlabel('Size of file')\n",
    "plt.ylabel('Accuracy')\n",
    "plt.title('Evolution of accuracy with the size of the file')\n",
    "box = ax.get_position()\n",
    "ax.set_position([box.x0, box.y0 + box.height * 0.0 , box.width, box.height * 1])\n",
    "ax.legend(loc = 'upper center', bbox_to_anchor = (0.5, -0.15), fancybox = True, \n",
    "              shadow = True, ncol = 4, prop = {'size':10})\n",
    "\n",
    "d_ridge_list=[]\n",
    "for p in length:\n",
    "    d_ridge_list.append(d_ridge[p])"
   ]
  },
  {
   "cell_type": "code",
   "execution_count": null,
   "metadata": {
    "collapsed": true
   },
   "outputs": [],
   "source": [
    "fig = plt.figure(figsize = (12, 6))\n",
    "ax = plt.subplot(111)\n",
    "plt.scatter(length,acc_ridge,label='Accuracy of Ridge regression')\n",
    "plt.plot(length,d_ridge_list,color='r',label='Average performance')\n",
    "plt.xlabel('Size of file')\n",
    "plt.ylabel('Accuracy')\n",
    "plt.title('Evolution of accuracy with the size of the file')\n",
    "box = ax.get_position()\n",
    "ax.set_position([box.x0, box.y0 + box.height * 0.0 , box.width, box.height * 1])\n",
    "ax.legend(loc = 'upper center', bbox_to_anchor = (0.5, -0.15), fancybox = True, \n",
    "              shadow = True, ncol = 4, prop = {'size':10})\n",
    "\n"
   ]
  }
 ],
 "metadata": {
  "kernelspec": {
   "display_name": "Python 3",
   "language": "python",
   "name": "python3"
  },
  "language_info": {
   "codemirror_mode": {
    "name": "ipython",
    "version": 3
   },
   "file_extension": ".py",
   "mimetype": "text/x-python",
   "name": "python",
   "nbconvert_exporter": "python",
   "pygments_lexer": "ipython3",
   "version": "3.5.4"
  }
 },
 "nbformat": 4,
 "nbformat_minor": 0
}
