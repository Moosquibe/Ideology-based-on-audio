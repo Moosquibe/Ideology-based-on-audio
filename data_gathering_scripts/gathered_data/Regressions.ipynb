{
 "cells": [
  {
   "cell_type": "code",
   "execution_count": 231,
   "metadata": {
    "collapsed": true
   },
   "outputs": [],
   "source": [
    "import os\n",
    "import io\n",
    "import operator\n",
    "import pandas as pd\n",
    "import numpy as np\n",
    "from sklearn.linear_model import Lasso, ElasticNet, Ridge\n",
    "from sklearn.model_selection import LeaveOneOut, KFold\n",
    "import matplotlib.pyplot as plt\n",
    "%matplotlib inline\n",
    "\n",
    "\n",
    "\n",
    "CHARGED=\"charged/\"\n",
    "NON_CHARGED=\"non_charged/\""
   ]
  },
  {
   "cell_type": "code",
   "execution_count": 232,
   "metadata": {
    "collapsed": false
   },
   "outputs": [],
   "source": [
    "def file_len(fname):\n",
    "    with open(fname) as f:\n",
    "        for i, l in enumerate(f):\n",
    "            pass\n",
    "    return i + 1\n",
    "\n",
    "len_file={}\n",
    "for filename in os.listdir(CHARGED):\n",
    "    len_file[filename]=file_len(CHARGED+filename)"
   ]
  },
  {
   "cell_type": "code",
   "execution_count": null,
   "metadata": {
    "collapsed": true
   },
   "outputs": [],
   "source": []
  },
  {
   "cell_type": "code",
   "execution_count": 233,
   "metadata": {
    "collapsed": true
   },
   "outputs": [],
   "source": [
    "def create_df(fname):\n",
    "    l=[]\n",
    "    fname=fname\n",
    "    file=open(fname,'r')\n",
    "    file=file.readlines()\n",
    "    for e in file:\n",
    "        e=e.replace(' ','')\n",
    "        e=e[:-1].split(',')\n",
    "        ideology=float(e[0])\n",
    "        count=int(e[1])\n",
    "        freq1=float(e[2])\n",
    "        freq2=float(e[3])\n",
    "        duration=float(e[4])\n",
    "        F11=float(e[5])\n",
    "        F12=float(e[6])\n",
    "        F13=float(e[7])\n",
    "        F21=float(e[8])\n",
    "        F22=float(e[9])\n",
    "        F23=float(e[10])\n",
    "        l.append([ideology,count,freq1,freq2,duration,F11,F12,F13,F21,F22,F23])\n",
    "    return l\n",
    "        \n",
    "        "
   ]
  },
  {
   "cell_type": "code",
   "execution_count": 249,
   "metadata": {
    "collapsed": false,
    "scrolled": true
   },
   "outputs": [],
   "source": [
    "sorted_len_file=sorted(len_file.items(), key=lambda x: -x[1])"
   ]
  },
  {
   "cell_type": "code",
   "execution_count": null,
   "metadata": {
    "collapsed": false
   },
   "outputs": [],
   "source": []
  },
  {
   "cell_type": "code",
   "execution_count": 278,
   "metadata": {
    "collapsed": false
   },
   "outputs": [],
   "source": [
    "l_df=create_df(CHARGED+sorted_len_file[4][0])\n",
    "col=['Ideology','Count','Freq1','Freq2','Duration','F11','F12','F13','F21','F22','F23']\n",
    "df=pd.DataFrame(l_df)\n",
    "df.columns=col\n",
    "y=df['Ideology']\n",
    "x=df.drop('Ideology',axis=1)\n",
    "x['constant']=np.ones(len(x))"
   ]
  },
  {
   "cell_type": "code",
   "execution_count": 279,
   "metadata": {
    "collapsed": true
   },
   "outputs": [],
   "source": [
    "loo=LeaveOneOut()"
   ]
  },
  {
   "cell_type": "code",
   "execution_count": 280,
   "metadata": {
    "collapsed": false
   },
   "outputs": [],
   "source": [
    "lambdas=np.arange(1e-3,1.5e-2,1e-3)\n",
    "scores=[]\n",
    "kf=KFold(n_splits=20)\n",
    "for train_index, test_index in kf.split(x):\n",
    "    history=[]\n",
    "    X_train, X_test = x.T[train_index].T, x.T[test_index].T\n",
    "    y_train, y_test = y.T[train_index].T, y.T[test_index].T\n",
    "    for i in range(len(lambdas)):\n",
    "        l=lambdas[i]\n",
    "        lr=Ridge(alpha=l,normalize=True)\n",
    "        lr.fit(X_train,y_train)\n",
    "        score=lr.score(X_test,y_test)\n",
    "        history.append(score)\n",
    "    scores.append(history)\n",
    "\n",
    "s_ridge=np.zeros(len(lambdas))\n",
    "for e in scores:\n",
    "    for i in range(len(e)):\n",
    "        s_ridge[i]+=e[i]/len(scores)\n",
    "        \n",
    "scores=[]\n",
    "for train_index, test_index in kf.split(x):\n",
    "    history=[]\n",
    "    X_train, X_test = x.T[train_index].T, x.T[test_index].T\n",
    "    y_train, y_test = y.T[train_index].T, y.T[test_index].T\n",
    "    for i in range(len(lambdas)):\n",
    "        l=lambdas[i]\n",
    "        lr=Lasso(alpha=l,normalize=True)\n",
    "        lr.fit(X_train,y_train)\n",
    "        score=lr.score(X_test,y_test)\n",
    "        history.append(score)\n",
    "    scores.append(history)\n",
    "\n",
    "s_lasso=np.zeros(len(lambdas))\n",
    "for e in scores:\n",
    "    for i in range(len(e)):\n",
    "        s_lasso[i]+=e[i]/len(scores)\n",
    "\n",
    "scores=[]\n",
    "for train_index, test_index in kf.split(x):\n",
    "    history=[]\n",
    "    X_train, X_test = x.T[train_index].T, x.T[test_index].T\n",
    "    y_train, y_test = y.T[train_index].T, y.T[test_index].T\n",
    "    for i in range(len(lambdas)):\n",
    "        l=lambdas[i]\n",
    "        lr=ElasticNet(alpha=l,normalize=True)\n",
    "        lr.fit(X_train,y_train)\n",
    "        score=lr.score(X_test,y_test)\n",
    "        history.append(score)\n",
    "    scores.append(history)\n",
    "\n",
    "s_elastic=np.zeros(len(lambdas))\n",
    "for e in scores:\n",
    "    for i in range(len(e)):\n",
    "        s_elastic[i]+=e[i]/len(scores)\n",
    "\n",
    "\n"
   ]
  },
  {
   "cell_type": "code",
   "execution_count": 281,
   "metadata": {
    "collapsed": false
   },
   "outputs": [
    {
     "data": {
      "text/plain": [
       "[<matplotlib.lines.Line2D at 0x1a1d128630>]"
      ]
     },
     "execution_count": 281,
     "metadata": {},
     "output_type": "execute_result"
    },
    {
     "data": {
      "image/png": "[encoded data removed]",
      "text/plain": [
       "<matplotlib.figure.Figure at 0x1a1d069b38>"
      ]
     },
     "metadata": {},
     "output_type": "display_data"
    }
   ],
   "source": [
    "plt.plot(lambdas,s_ridge)\n",
    "plt.plot(lambdas,s_lasso)\n",
    "plt.plot(lambdas,s_elastic)"
   ]
  },
  {
   "cell_type": "code",
   "execution_count": null,
   "metadata": {
    "collapsed": false
   },
   "outputs": [],
   "source": []
  },
  {
   "cell_type": "code",
   "execution_count": 241,
   "metadata": {
    "collapsed": false
   },
   "outputs": [],
   "source": []
  },
  {
   "cell_type": "code",
   "execution_count": null,
   "metadata": {
    "collapsed": false
   },
   "outputs": [],
   "source": []
  },
  {
   "cell_type": "code",
   "execution_count": 243,
   "metadata": {
    "collapsed": false
   },
   "outputs": [],
   "source": []
  },
  {
   "cell_type": "code",
   "execution_count": null,
   "metadata": {
    "collapsed": false
   },
   "outputs": [],
   "source": []
  },
  {
   "cell_type": "code",
   "execution_count": null,
   "metadata": {
    "collapsed": false
   },
   "outputs": [],
   "source": []
  },
  {
   "cell_type": "code",
   "execution_count": 245,
   "metadata": {
    "collapsed": false
   },
   "outputs": [],
   "source": []
  },
  {
   "cell_type": "code",
   "execution_count": null,
   "metadata": {
    "collapsed": false
   },
   "outputs": [],
   "source": []
  },
  {
   "cell_type": "code",
   "execution_count": null,
   "metadata": {
    "collapsed": false
   },
   "outputs": [],
   "source": []
  },
  {
   "cell_type": "code",
   "execution_count": null,
   "metadata": {
    "collapsed": true
   },
   "outputs": [],
   "source": []
  },
  {
   "cell_type": "code",
   "execution_count": null,
   "metadata": {
    "collapsed": true
   },
   "outputs": [],
   "source": []
  }
 ],
 "metadata": {
  "kernelspec": {
   "display_name": "Python 3",
   "language": "python",
   "name": "python3"
  },
  "language_info": {
   "codemirror_mode": {
    "name": "ipython",
    "version": 3
   },
   "file_extension": ".py",
   "mimetype": "text/x-python",
   "name": "python",
   "nbconvert_exporter": "python",
   "pygments_lexer": "ipython3",
   "version": "3.5.4"
  }
 },
 "nbformat": 4,
 "nbformat_minor": 0
}
