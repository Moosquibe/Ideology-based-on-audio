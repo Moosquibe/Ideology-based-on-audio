{
 "cells": [
  {
   "cell_type": "code",
   "execution_count": 11,
   "metadata": {},
   "outputs": [],
   "source": [
    "import os\n",
    "import io\n",
    "\n",
    "OUTPUT=\"allcombined.txt\"\n",
    "output_file = open(OUTPUT, \"a\")\n",
    "\n",
    "fichiers = os.listdir()\n",
    "\n",
    "\n",
    "def treat_file(filetotreat, output):\n",
    "    lines = filetotreat.readlines()\n",
    "    for line in lines:\n",
    "        entries = line.split(',')\n",
    "        if len(entries) < 4:\n",
    "            break\n",
    "        ideo = entries[0]\n",
    "        if ideo == \"{\\n\":\n",
    "            break\n",
    "        if float(ideo) < 0.5:\n",
    "            entries[0] = 0\n",
    "        else:\n",
    "            entries[0] = 1\n",
    "        output.write(str(entries[0])+','+entries[2]+','+entries[3]+','+entries[4]+'\\n')\n",
    "    filetotreat.close()\n",
    "        \n",
    "    \n",
    "for file in (f for f in fichiers if f.endswith(\".txt\")):\n",
    "    filetotreat = open(file, \"r\")\n",
    "    treat_file(filetotreat, output_file)\n",
    "    \n",
    "output_file.close()"
   ]
  },
  {
   "cell_type": "code",
   "execution_count": 13,
   "metadata": {},
   "outputs": [],
   "source": [
    "import os\n",
    "import io\n",
    "import operator\n",
    "import pandas as pd\n",
    "import numpy as np\n",
    "from sklearn.linear_model import Lasso, ElasticNet, Ridge\n",
    "from sklearn.model_selection import LeaveOneOut, KFold\n",
    "import matplotlib.pyplot as plt\n",
    "from sklearn.model_selection import train_test_split"
   ]
  },
  {
   "cell_type": "code",
   "execution_count": 49,
   "metadata": {},
   "outputs": [],
   "source": [
    "dataframe = pd.DataFrame([\"ideo\", \"F1\", \"F2\", \"duration\"])"
   ]
  },
  {
   "cell_type": "code",
   "execution_count": 50,
   "metadata": {},
   "outputs": [],
   "source": [
    "data = pd.read_csv('batslescouilles.txt', header = None)"
   ]
  },
  {
   "cell_type": "code",
   "execution_count": 51,
   "metadata": {},
   "outputs": [],
   "source": [
    "TRAIN, TEST = train_test_split(data, test_size = 6000, train_size = 2000)"
   ]
  },
  {
   "cell_type": "code",
   "execution_count": 60,
   "metadata": {},
   "outputs": [
    {
     "data": {
      "text/plain": [
       "LogisticRegression(C=1.0, class_weight=None, dual=False, fit_intercept=True,\n",
       "          intercept_scaling=1, max_iter=100, multi_class='ovr', n_jobs=1,\n",
       "          penalty='l2', random_state=None, solver='liblinear', tol=0.0001,\n",
       "          verbose=0, warm_start=False)"
      ]
     },
     "execution_count": 60,
     "metadata": {},
     "output_type": "execute_result"
    }
   ],
   "source": [
    "from sklearn.linear_model import LogisticRegression\n",
    "logi = LogisticRegression()\n",
    "logi.fit(TRAIN[[1,2,3]], TRAIN[0])"
   ]
  },
  {
   "cell_type": "code",
   "execution_count": 62,
   "metadata": {},
   "outputs": [
    {
     "data": {
      "text/plain": [
       "0.66500000000000004"
      ]
     },
     "execution_count": 62,
     "metadata": {},
     "output_type": "execute_result"
    }
   ],
   "source": [
    "logi.score(TRAIN[[1,2,3]], TRAIN[0])"
   ]
  }
 ],
 "metadata": {
  "kernelspec": {
   "display_name": "Python 3",
   "language": "python",
   "name": "python3"
  },
  "language_info": {
   "codemirror_mode": {
    "name": "ipython",
    "version": 3
   },
   "file_extension": ".py",
   "mimetype": "text/x-python",
   "name": "python",
   "nbconvert_exporter": "python",
   "pygments_lexer": "ipython3",
   "version": "3.6.3"
  }
 },
 "nbformat": 4,
 "nbformat_minor": 2
}
